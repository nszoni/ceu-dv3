{
 "cells": [
  {
   "cell_type": "markdown",
   "metadata": {},
   "source": [
    "# CEU - DV3 Final Project - UFO Sightings\n",
    "### Author: Son Nam Nguyen\n",
    "### Date: 2022-05-29\n",
    "### Target: Multiple Charts + Dash app"
   ]
  },
  {
   "cell_type": "markdown",
   "metadata": {},
   "source": [
    "## Setup\n",
    "\n",
    "Install all the necessary libraries needed for the notebook."
   ]
  },
  {
   "cell_type": "code",
   "execution_count": 1,
   "metadata": {},
   "outputs": [],
   "source": [
    "import plotly.express as px\n",
    "import plotly.graph_objects as go\n",
    "import pandas as pd\n",
    "import numpy as np\n",
    "\n",
    "\n",
    "# import the Dash core and HTML components\n",
    "from dash import dcc\n",
    "from dash import html\n",
    "\n",
    "# we need to import the input and output functions for the interactive features\n",
    "from dash import Input, Output\n",
    "\n",
    "\n",
    "# import the JupyterDash extension\n",
    "from jupyter_dash import JupyterDash\n"
   ]
  },
  {
   "cell_type": "markdown",
   "metadata": {},
   "source": [
    "## Introduction and Questions\n",
    "\n",
    "Table containing 80,000+ records of UFO sightings between 1949 and 2014, including city, state, country, lat/long, shape, duration, date/time, and comments\n",
    "\n",
    "**Business questions are inspired by Maven Analytics.**\n",
    "\n",
    "1. Figure out which shapes of UFOs tend to be seen most often.\n",
    "\n",
    "2. Take a look at data since the year 1990. How have annual sightings trended?\n",
    "\n",
    "3. Which US states report the most UFO sightings?\n",
    "\n",
    "4. Understand the distribution of the duration of UFO sightings."
   ]
  },
  {
   "cell_type": "markdown",
   "metadata": {},
   "source": [
    "## Data Ingestion\n",
    "\n",
    "I have uploaded the data from [Maven Analytics](https://www.mavenanalytics.io/data-playground?accessType=open&dataStructure=5wfxyeVf1etbP4TXdyPdG1&page=3) to my public Github repo."
   ]
  },
  {
   "cell_type": "code",
   "execution_count": 24,
   "metadata": {},
   "outputs": [
    {
     "data": {
      "text/html": [
       "<div>\n",
       "<style scoped>\n",
       "    .dataframe tbody tr th:only-of-type {\n",
       "        vertical-align: middle;\n",
       "    }\n",
       "\n",
       "    .dataframe tbody tr th {\n",
       "        vertical-align: top;\n",
       "    }\n",
       "\n",
       "    .dataframe thead th {\n",
       "        text-align: right;\n",
       "    }\n",
       "</style>\n",
       "<table border=\"1\" class=\"dataframe\">\n",
       "  <thead>\n",
       "    <tr style=\"text-align: right;\">\n",
       "      <th></th>\n",
       "      <th>datetime</th>\n",
       "      <th>city</th>\n",
       "      <th>state</th>\n",
       "      <th>country</th>\n",
       "      <th>shape</th>\n",
       "      <th>duration (seconds)</th>\n",
       "      <th>duration (hours/min)</th>\n",
       "      <th>comments</th>\n",
       "      <th>date posted</th>\n",
       "      <th>latitude</th>\n",
       "      <th>longitude</th>\n",
       "    </tr>\n",
       "  </thead>\n",
       "  <tbody>\n",
       "    <tr>\n",
       "      <th>0</th>\n",
       "      <td>1949-10-10 20:30:00</td>\n",
       "      <td>san marcos</td>\n",
       "      <td>tx</td>\n",
       "      <td>us</td>\n",
       "      <td>cylinder</td>\n",
       "      <td>2700</td>\n",
       "      <td>45 minutes</td>\n",
       "      <td>This event took place in early fall around 194...</td>\n",
       "      <td>2004-04-27</td>\n",
       "      <td>29.8830556</td>\n",
       "      <td>-97.941111</td>\n",
       "    </tr>\n",
       "    <tr>\n",
       "      <th>1</th>\n",
       "      <td>1949-10-10 21:00:00</td>\n",
       "      <td>lackland afb</td>\n",
       "      <td>tx</td>\n",
       "      <td>NaN</td>\n",
       "      <td>light</td>\n",
       "      <td>7200</td>\n",
       "      <td>1-2 hrs</td>\n",
       "      <td>1949 Lackland AFB&amp;#44 TX.  Lights racing acros...</td>\n",
       "      <td>2005-12-16</td>\n",
       "      <td>29.38421</td>\n",
       "      <td>-98.581082</td>\n",
       "    </tr>\n",
       "    <tr>\n",
       "      <th>2</th>\n",
       "      <td>1955-10-10 17:00:00</td>\n",
       "      <td>chester (uk/england)</td>\n",
       "      <td>NaN</td>\n",
       "      <td>gb</td>\n",
       "      <td>circle</td>\n",
       "      <td>20</td>\n",
       "      <td>20 seconds</td>\n",
       "      <td>Green/Orange circular disc over Chester&amp;#44 En...</td>\n",
       "      <td>2008-01-21</td>\n",
       "      <td>53.2</td>\n",
       "      <td>-2.916667</td>\n",
       "    </tr>\n",
       "    <tr>\n",
       "      <th>3</th>\n",
       "      <td>1956-10-10 21:00:00</td>\n",
       "      <td>edna</td>\n",
       "      <td>tx</td>\n",
       "      <td>us</td>\n",
       "      <td>circle</td>\n",
       "      <td>20</td>\n",
       "      <td>1/2 hour</td>\n",
       "      <td>My older brother and twin sister were leaving ...</td>\n",
       "      <td>2004-01-17</td>\n",
       "      <td>28.9783333</td>\n",
       "      <td>-96.645833</td>\n",
       "    </tr>\n",
       "    <tr>\n",
       "      <th>4</th>\n",
       "      <td>1960-10-10 20:00:00</td>\n",
       "      <td>kaneohe</td>\n",
       "      <td>hi</td>\n",
       "      <td>us</td>\n",
       "      <td>light</td>\n",
       "      <td>900</td>\n",
       "      <td>15 minutes</td>\n",
       "      <td>AS a Marine 1st Lt. flying an FJ4B fighter/att...</td>\n",
       "      <td>2004-01-22</td>\n",
       "      <td>21.4180556</td>\n",
       "      <td>-157.803611</td>\n",
       "    </tr>\n",
       "  </tbody>\n",
       "</table>\n",
       "</div>"
      ],
      "text/plain": [
       "              datetime                  city state country     shape  \\\n",
       "0  1949-10-10 20:30:00            san marcos    tx      us  cylinder   \n",
       "1  1949-10-10 21:00:00          lackland afb    tx     NaN     light   \n",
       "2  1955-10-10 17:00:00  chester (uk/england)   NaN      gb    circle   \n",
       "3  1956-10-10 21:00:00                  edna    tx      us    circle   \n",
       "4  1960-10-10 20:00:00               kaneohe    hi      us     light   \n",
       "\n",
       "  duration (seconds) duration (hours/min)  \\\n",
       "0               2700           45 minutes   \n",
       "1               7200              1-2 hrs   \n",
       "2                 20           20 seconds   \n",
       "3                 20             1/2 hour   \n",
       "4                900           15 minutes   \n",
       "\n",
       "                                            comments date posted    latitude  \\\n",
       "0  This event took place in early fall around 194...  2004-04-27  29.8830556   \n",
       "1  1949 Lackland AFB&#44 TX.  Lights racing acros...  2005-12-16    29.38421   \n",
       "2  Green/Orange circular disc over Chester&#44 En...  2008-01-21        53.2   \n",
       "3  My older brother and twin sister were leaving ...  2004-01-17  28.9783333   \n",
       "4  AS a Marine 1st Lt. flying an FJ4B fighter/att...  2004-01-22  21.4180556   \n",
       "\n",
       "   longitude   \n",
       "0  -97.941111  \n",
       "1  -98.581082  \n",
       "2   -2.916667  \n",
       "3  -96.645833  \n",
       "4 -157.803611  "
      ]
     },
     "execution_count": 24,
     "metadata": {},
     "output_type": "execute_result"
    }
   ],
   "source": [
    "#read data from Github\n",
    "df_ufo = pd.read_csv('https://github.com/nszoni/ceu-dv3/raw/main/data/ufo_sightings_scrubbed.csv', low_memory=False)\n",
    "df_ufo.head(5)"
   ]
  },
  {
   "cell_type": "markdown",
   "metadata": {},
   "source": [
    "Column names are a bit dirty (e.g. spaces, whitespaces), not something one would expect in a real data project."
   ]
  },
  {
   "cell_type": "code",
   "execution_count": 26,
   "metadata": {},
   "outputs": [
    {
     "data": {
      "text/plain": [
       "Index(['datetime', 'city', 'state', 'country', 'shape', 'duration (seconds)',\n",
       "       'duration (hours/min)', 'comments', 'date posted', 'latitude',\n",
       "       'longitude '],\n",
       "      dtype='object')"
      ]
     },
     "execution_count": 26,
     "metadata": {},
     "output_type": "execute_result"
    }
   ],
   "source": [
    "# show column names\n",
    "df_ufo.columns"
   ]
  },
  {
   "cell_type": "markdown",
   "metadata": {},
   "source": [
    "Let's give a try to clean up the column names."
   ]
  },
  {
   "cell_type": "code",
   "execution_count": 27,
   "metadata": {},
   "outputs": [],
   "source": [
    "#pass a list to column names\n",
    "df_ufo.columns = ['date', 'city', 'state', 'country', 'shape', 'duration_sec', 'duration_min_hour', 'comments', 'date_posted', 'lat', 'long']"
   ]
  },
  {
   "cell_type": "markdown",
   "metadata": {},
   "source": [
    "Column names are now OK, but we need to convert columns to their right format (currently all have a object -- string in numpy dtype)."
   ]
  },
  {
   "cell_type": "code",
   "execution_count": 28,
   "metadata": {},
   "outputs": [
    {
     "name": "stdout",
     "output_type": "stream",
     "text": [
      "<class 'pandas.core.frame.DataFrame'>\n",
      "RangeIndex: 80332 entries, 0 to 80331\n",
      "Data columns (total 11 columns):\n",
      " #   Column             Non-Null Count  Dtype  \n",
      "---  ------             --------------  -----  \n",
      " 0   date               80332 non-null  object \n",
      " 1   city               80332 non-null  object \n",
      " 2   state              74535 non-null  object \n",
      " 3   country            70662 non-null  object \n",
      " 4   shape              78400 non-null  object \n",
      " 5   duration_sec       80332 non-null  object \n",
      " 6   duration_min_hour  80332 non-null  object \n",
      " 7   comments           80317 non-null  object \n",
      " 8   date_posted        80332 non-null  object \n",
      " 9   lat                80332 non-null  object \n",
      " 10  long               80332 non-null  float64\n",
      "dtypes: float64(1), object(10)\n",
      "memory usage: 6.7+ MB\n"
     ]
    }
   ],
   "source": [
    "df_ufo.info()"
   ]
  },
  {
   "cell_type": "code",
   "execution_count": 29,
   "metadata": {},
   "outputs": [],
   "source": [
    "#convert multiple datatypes\n",
    "df_ufo['duration_sec'] = pd.to_numeric(df_ufo['duration_sec'], errors='coerce')\n",
    "df_ufo['date_posted'] = pd.to_datetime(df_ufo['date_posted'])\n",
    "df_ufo['date'] = pd.to_datetime(df_ufo['date'])\n",
    "df_ufo['lat'] = pd.to_numeric(df_ufo['lat'], errors='coerce')\n",
    "df_ufo['long'] = pd.to_numeric(df_ufo['long'], errors='coerce')"
   ]
  },
  {
   "cell_type": "code",
   "execution_count": 30,
   "metadata": {},
   "outputs": [
    {
     "name": "stdout",
     "output_type": "stream",
     "text": [
      "<class 'pandas.core.frame.DataFrame'>\n",
      "RangeIndex: 80332 entries, 0 to 80331\n",
      "Data columns (total 11 columns):\n",
      " #   Column             Non-Null Count  Dtype         \n",
      "---  ------             --------------  -----         \n",
      " 0   date               80332 non-null  datetime64[ns]\n",
      " 1   city               80332 non-null  object        \n",
      " 2   state              74535 non-null  object        \n",
      " 3   country            70662 non-null  object        \n",
      " 4   shape              78400 non-null  object        \n",
      " 5   duration_sec       80329 non-null  float64       \n",
      " 6   duration_min_hour  80332 non-null  object        \n",
      " 7   comments           80317 non-null  object        \n",
      " 8   date_posted        80332 non-null  datetime64[ns]\n",
      " 9   lat                80331 non-null  float64       \n",
      " 10  long               80332 non-null  float64       \n",
      "dtypes: datetime64[ns](2), float64(3), object(6)\n",
      "memory usage: 6.7+ MB\n"
     ]
    }
   ],
   "source": [
    "df_ufo.info()"
   ]
  },
  {
   "cell_type": "markdown",
   "metadata": {},
   "source": [
    "We also need to check for missing values."
   ]
  },
  {
   "cell_type": "code",
   "execution_count": 31,
   "metadata": {},
   "outputs": [
    {
     "data": {
      "text/plain": [
       "date                    0\n",
       "city                    0\n",
       "state                5797\n",
       "country              9670\n",
       "shape                1932\n",
       "duration_sec            3\n",
       "duration_min_hour       0\n",
       "comments               15\n",
       "date_posted             0\n",
       "lat                     1\n",
       "long                    0\n",
       "dtype: int64"
      ]
     },
     "execution_count": 31,
     "metadata": {},
     "output_type": "execute_result"
    }
   ],
   "source": [
    "#check for missing values in each column\n",
    "df_ufo.isnull().sum()"
   ]
  },
  {
   "cell_type": "code",
   "execution_count": 32,
   "metadata": {},
   "outputs": [
    {
     "data": {
      "text/html": [
       "<div>\n",
       "<style scoped>\n",
       "    .dataframe tbody tr th:only-of-type {\n",
       "        vertical-align: middle;\n",
       "    }\n",
       "\n",
       "    .dataframe tbody tr th {\n",
       "        vertical-align: top;\n",
       "    }\n",
       "\n",
       "    .dataframe thead th {\n",
       "        text-align: right;\n",
       "    }\n",
       "</style>\n",
       "<table border=\"1\" class=\"dataframe\">\n",
       "  <thead>\n",
       "    <tr style=\"text-align: right;\">\n",
       "      <th></th>\n",
       "      <th>date</th>\n",
       "      <th>city</th>\n",
       "      <th>state</th>\n",
       "      <th>country</th>\n",
       "      <th>shape</th>\n",
       "      <th>duration_sec</th>\n",
       "      <th>duration_min_hour</th>\n",
       "      <th>comments</th>\n",
       "      <th>date_posted</th>\n",
       "      <th>lat</th>\n",
       "      <th>long</th>\n",
       "    </tr>\n",
       "  </thead>\n",
       "  <tbody>\n",
       "    <tr>\n",
       "      <th>1</th>\n",
       "      <td>1949-10-10 21:00:00</td>\n",
       "      <td>lackland afb</td>\n",
       "      <td>tx</td>\n",
       "      <td>NaN</td>\n",
       "      <td>light</td>\n",
       "      <td>7200.0</td>\n",
       "      <td>1-2 hrs</td>\n",
       "      <td>1949 Lackland AFB&amp;#44 TX.  Lights racing acros...</td>\n",
       "      <td>2005-12-16</td>\n",
       "      <td>29.384210</td>\n",
       "      <td>-98.581082</td>\n",
       "    </tr>\n",
       "    <tr>\n",
       "      <th>18</th>\n",
       "      <td>1973-10-10 23:00:00</td>\n",
       "      <td>bermuda nas</td>\n",
       "      <td>NaN</td>\n",
       "      <td>NaN</td>\n",
       "      <td>light</td>\n",
       "      <td>20.0</td>\n",
       "      <td>20 sec.</td>\n",
       "      <td>saw fast moving blip on the radar scope thin w...</td>\n",
       "      <td>2002-01-11</td>\n",
       "      <td>32.364167</td>\n",
       "      <td>-64.678611</td>\n",
       "    </tr>\n",
       "    <tr>\n",
       "      <th>29</th>\n",
       "      <td>1979-10-10 22:00:00</td>\n",
       "      <td>saddle lake (canada)</td>\n",
       "      <td>ab</td>\n",
       "      <td>NaN</td>\n",
       "      <td>triangle</td>\n",
       "      <td>270.0</td>\n",
       "      <td>4.5 or more min.</td>\n",
       "      <td>Lights far above&amp;#44  that glance; then flee f...</td>\n",
       "      <td>2005-01-19</td>\n",
       "      <td>53.970571</td>\n",
       "      <td>-111.689885</td>\n",
       "    </tr>\n",
       "    <tr>\n",
       "      <th>35</th>\n",
       "      <td>1982-10-10 07:00:00</td>\n",
       "      <td>gisborne (new zealand)</td>\n",
       "      <td>NaN</td>\n",
       "      <td>NaN</td>\n",
       "      <td>disk</td>\n",
       "      <td>120.0</td>\n",
       "      <td>2min</td>\n",
       "      <td>gisborne nz 1982 wainui beach to sponge bay</td>\n",
       "      <td>2002-01-11</td>\n",
       "      <td>-38.662334</td>\n",
       "      <td>178.017649</td>\n",
       "    </tr>\n",
       "    <tr>\n",
       "      <th>40</th>\n",
       "      <td>1986-10-10 20:00:00</td>\n",
       "      <td>holmes/pawling</td>\n",
       "      <td>ny</td>\n",
       "      <td>NaN</td>\n",
       "      <td>chevron</td>\n",
       "      <td>180.0</td>\n",
       "      <td>3 minutes</td>\n",
       "      <td>Football Field Sized Chevron with bright white...</td>\n",
       "      <td>2007-10-08</td>\n",
       "      <td>41.523427</td>\n",
       "      <td>-73.646795</td>\n",
       "    </tr>\n",
       "    <tr>\n",
       "      <th>...</th>\n",
       "      <td>...</td>\n",
       "      <td>...</td>\n",
       "      <td>...</td>\n",
       "      <td>...</td>\n",
       "      <td>...</td>\n",
       "      <td>...</td>\n",
       "      <td>...</td>\n",
       "      <td>...</td>\n",
       "      <td>...</td>\n",
       "      <td>...</td>\n",
       "      <td>...</td>\n",
       "    </tr>\n",
       "    <tr>\n",
       "      <th>80238</th>\n",
       "      <td>2009-09-09 14:15:00</td>\n",
       "      <td>broomfield?lafayette</td>\n",
       "      <td>co</td>\n",
       "      <td>NaN</td>\n",
       "      <td>rectangle</td>\n",
       "      <td>120.0</td>\n",
       "      <td>2 min</td>\n",
       "      <td>Large&amp;#44 rectangular object seen flying in br...</td>\n",
       "      <td>2009-12-12</td>\n",
       "      <td>39.993596</td>\n",
       "      <td>-105.089706</td>\n",
       "    </tr>\n",
       "    <tr>\n",
       "      <th>80244</th>\n",
       "      <td>2009-09-09 20:17:00</td>\n",
       "      <td>lyman</td>\n",
       "      <td>me</td>\n",
       "      <td>NaN</td>\n",
       "      <td>light</td>\n",
       "      <td>600.0</td>\n",
       "      <td>10 mins</td>\n",
       "      <td>Two lights ran across the sky&amp;#44 as bright as...</td>\n",
       "      <td>2009-12-12</td>\n",
       "      <td>43.505096</td>\n",
       "      <td>-70.637968</td>\n",
       "    </tr>\n",
       "    <tr>\n",
       "      <th>80319</th>\n",
       "      <td>2013-09-09 20:15:00</td>\n",
       "      <td>clifton</td>\n",
       "      <td>nj</td>\n",
       "      <td>NaN</td>\n",
       "      <td>other</td>\n",
       "      <td>3600.0</td>\n",
       "      <td>~1hr+</td>\n",
       "      <td>Luminous line seen in New Jersey sky.</td>\n",
       "      <td>2013-09-30</td>\n",
       "      <td>40.858433</td>\n",
       "      <td>-74.163755</td>\n",
       "    </tr>\n",
       "    <tr>\n",
       "      <th>80322</th>\n",
       "      <td>2013-09-09 21:00:00</td>\n",
       "      <td>aleksandrow (poland)</td>\n",
       "      <td>NaN</td>\n",
       "      <td>NaN</td>\n",
       "      <td>light</td>\n",
       "      <td>15.0</td>\n",
       "      <td>15 seconds</td>\n",
       "      <td>Two points of light following one another in a...</td>\n",
       "      <td>2013-09-30</td>\n",
       "      <td>50.465843</td>\n",
       "      <td>22.891814</td>\n",
       "    </tr>\n",
       "    <tr>\n",
       "      <th>80324</th>\n",
       "      <td>2013-09-09 21:00:00</td>\n",
       "      <td>hamstead (hollyridge)</td>\n",
       "      <td>nc</td>\n",
       "      <td>NaN</td>\n",
       "      <td>light</td>\n",
       "      <td>120.0</td>\n",
       "      <td>2 minutes</td>\n",
       "      <td>8 to ten lights bright orange in color large t...</td>\n",
       "      <td>2013-09-30</td>\n",
       "      <td>34.367594</td>\n",
       "      <td>-77.710548</td>\n",
       "    </tr>\n",
       "  </tbody>\n",
       "</table>\n",
       "<p>9670 rows × 11 columns</p>\n",
       "</div>"
      ],
      "text/plain": [
       "                     date                    city state country      shape  \\\n",
       "1     1949-10-10 21:00:00            lackland afb    tx     NaN      light   \n",
       "18    1973-10-10 23:00:00             bermuda nas   NaN     NaN      light   \n",
       "29    1979-10-10 22:00:00    saddle lake (canada)    ab     NaN   triangle   \n",
       "35    1982-10-10 07:00:00  gisborne (new zealand)   NaN     NaN       disk   \n",
       "40    1986-10-10 20:00:00          holmes/pawling    ny     NaN    chevron   \n",
       "...                   ...                     ...   ...     ...        ...   \n",
       "80238 2009-09-09 14:15:00    broomfield?lafayette    co     NaN  rectangle   \n",
       "80244 2009-09-09 20:17:00                   lyman    me     NaN      light   \n",
       "80319 2013-09-09 20:15:00                 clifton    nj     NaN      other   \n",
       "80322 2013-09-09 21:00:00    aleksandrow (poland)   NaN     NaN      light   \n",
       "80324 2013-09-09 21:00:00   hamstead (hollyridge)    nc     NaN      light   \n",
       "\n",
       "       duration_sec duration_min_hour  \\\n",
       "1            7200.0           1-2 hrs   \n",
       "18             20.0           20 sec.   \n",
       "29            270.0  4.5 or more min.   \n",
       "35            120.0              2min   \n",
       "40            180.0         3 minutes   \n",
       "...             ...               ...   \n",
       "80238         120.0             2 min   \n",
       "80244         600.0           10 mins   \n",
       "80319        3600.0             ~1hr+   \n",
       "80322          15.0        15 seconds   \n",
       "80324         120.0         2 minutes   \n",
       "\n",
       "                                                comments date_posted  \\\n",
       "1      1949 Lackland AFB&#44 TX.  Lights racing acros...  2005-12-16   \n",
       "18     saw fast moving blip on the radar scope thin w...  2002-01-11   \n",
       "29     Lights far above&#44  that glance; then flee f...  2005-01-19   \n",
       "35           gisborne nz 1982 wainui beach to sponge bay  2002-01-11   \n",
       "40     Football Field Sized Chevron with bright white...  2007-10-08   \n",
       "...                                                  ...         ...   \n",
       "80238  Large&#44 rectangular object seen flying in br...  2009-12-12   \n",
       "80244  Two lights ran across the sky&#44 as bright as...  2009-12-12   \n",
       "80319              Luminous line seen in New Jersey sky.  2013-09-30   \n",
       "80322  Two points of light following one another in a...  2013-09-30   \n",
       "80324  8 to ten lights bright orange in color large t...  2013-09-30   \n",
       "\n",
       "             lat        long  \n",
       "1      29.384210  -98.581082  \n",
       "18     32.364167  -64.678611  \n",
       "29     53.970571 -111.689885  \n",
       "35    -38.662334  178.017649  \n",
       "40     41.523427  -73.646795  \n",
       "...          ...         ...  \n",
       "80238  39.993596 -105.089706  \n",
       "80244  43.505096  -70.637968  \n",
       "80319  40.858433  -74.163755  \n",
       "80322  50.465843   22.891814  \n",
       "80324  34.367594  -77.710548  \n",
       "\n",
       "[9670 rows x 11 columns]"
      ]
     },
     "execution_count": 32,
     "metadata": {},
     "output_type": "execute_result"
    }
   ],
   "source": [
    "#print sample of data where country is missing\n",
    "df_ufo[df_ufo['country'].isnull()]"
   ]
  },
  {
   "cell_type": "code",
   "execution_count": 34,
   "metadata": {},
   "outputs": [],
   "source": [
    "#impute 'us' to missing country value where state is not missing\n",
    "df_ufo.loc[(df_ufo['country'].isnull()) & (~df_ufo['state'].isnull()), 'country'] = 'us'"
   ]
  },
  {
   "cell_type": "code",
   "execution_count": 50,
   "metadata": {},
   "outputs": [],
   "source": [
    "#convert duration in sec to hours\n",
    "\n",
    "# extract minute and hour column from duration_sec\n",
    "df_ufo['duration_min'] = df_ufo['duration_sec'].apply(lambda x: x/60)\n",
    "\n",
    "df_ufo['duration_hour'] = df_ufo['duration_sec'].apply(lambda x: x/(60*60))"
   ]
  },
  {
   "cell_type": "code",
   "execution_count": 51,
   "metadata": {},
   "outputs": [
    {
     "data": {
      "text/html": [
       "<div>\n",
       "<style scoped>\n",
       "    .dataframe tbody tr th:only-of-type {\n",
       "        vertical-align: middle;\n",
       "    }\n",
       "\n",
       "    .dataframe tbody tr th {\n",
       "        vertical-align: top;\n",
       "    }\n",
       "\n",
       "    .dataframe thead th {\n",
       "        text-align: right;\n",
       "    }\n",
       "</style>\n",
       "<table border=\"1\" class=\"dataframe\">\n",
       "  <thead>\n",
       "    <tr style=\"text-align: right;\">\n",
       "      <th></th>\n",
       "      <th>date</th>\n",
       "      <th>city</th>\n",
       "      <th>state</th>\n",
       "      <th>country</th>\n",
       "      <th>shape</th>\n",
       "      <th>duration_sec</th>\n",
       "      <th>duration_min_hour</th>\n",
       "      <th>comments</th>\n",
       "      <th>date_posted</th>\n",
       "      <th>lat</th>\n",
       "      <th>long</th>\n",
       "      <th>year</th>\n",
       "      <th>duration_min</th>\n",
       "      <th>duration_hour</th>\n",
       "    </tr>\n",
       "  </thead>\n",
       "  <tbody>\n",
       "    <tr>\n",
       "      <th>559</th>\n",
       "      <td>1983-10-01 17:00:00</td>\n",
       "      <td>birmingham (uk/england)</td>\n",
       "      <td>NaN</td>\n",
       "      <td>Great Brittain</td>\n",
       "      <td>sphere</td>\n",
       "      <td>97836000.0</td>\n",
       "      <td>31 years</td>\n",
       "      <td>Firstly&amp;#44 I was stunned and stared at the ob...</td>\n",
       "      <td>2013-04-12</td>\n",
       "      <td>52.466667</td>\n",
       "      <td>-1.916667</td>\n",
       "      <td>1983</td>\n",
       "      <td>1.630600e+06</td>\n",
       "      <td>27176.666667</td>\n",
       "    </tr>\n",
       "    <tr>\n",
       "      <th>53384</th>\n",
       "      <td>2010-06-03 23:30:00</td>\n",
       "      <td>ottawa (canada)</td>\n",
       "      <td>on</td>\n",
       "      <td>Canada</td>\n",
       "      <td>other</td>\n",
       "      <td>82800000.0</td>\n",
       "      <td>23000hrs</td>\n",
       "      <td>((HOAX??))  I was out in a field near mil&amp;#44 ...</td>\n",
       "      <td>2010-07-06</td>\n",
       "      <td>45.416667</td>\n",
       "      <td>-75.700000</td>\n",
       "      <td>2010</td>\n",
       "      <td>1.380000e+06</td>\n",
       "      <td>23000.000000</td>\n",
       "    </tr>\n",
       "    <tr>\n",
       "      <th>74660</th>\n",
       "      <td>1991-09-15 18:00:00</td>\n",
       "      <td>greenbrier</td>\n",
       "      <td>ar</td>\n",
       "      <td>United States</td>\n",
       "      <td>light</td>\n",
       "      <td>66276000.0</td>\n",
       "      <td>21 years</td>\n",
       "      <td>Orange or amber balls or orbs of light multipl...</td>\n",
       "      <td>2008-03-31</td>\n",
       "      <td>35.233889</td>\n",
       "      <td>-92.387500</td>\n",
       "      <td>1991</td>\n",
       "      <td>1.104600e+06</td>\n",
       "      <td>18410.000000</td>\n",
       "    </tr>\n",
       "    <tr>\n",
       "      <th>64390</th>\n",
       "      <td>2012-08-10 21:00:00</td>\n",
       "      <td>finley</td>\n",
       "      <td>wa</td>\n",
       "      <td>United States</td>\n",
       "      <td>light</td>\n",
       "      <td>52623200.0</td>\n",
       "      <td>2 months</td>\n",
       "      <td>There have been several flying objects in a pe...</td>\n",
       "      <td>2012-08-19</td>\n",
       "      <td>46.154167</td>\n",
       "      <td>-119.032778</td>\n",
       "      <td>2012</td>\n",
       "      <td>8.770533e+05</td>\n",
       "      <td>14617.555556</td>\n",
       "    </tr>\n",
       "    <tr>\n",
       "      <th>38261</th>\n",
       "      <td>1983-04-03 00:00:00</td>\n",
       "      <td>dont know</td>\n",
       "      <td>NaN</td>\n",
       "      <td>NaN</td>\n",
       "      <td>NaN</td>\n",
       "      <td>52623200.0</td>\n",
       "      <td>2 months</td>\n",
       "      <td>Hi&amp;#44  I&amp;#8217;m writing to you because I wan...</td>\n",
       "      <td>2004-07-25</td>\n",
       "      <td>41.730561</td>\n",
       "      <td>-78.682099</td>\n",
       "      <td>1983</td>\n",
       "      <td>8.770533e+05</td>\n",
       "      <td>14617.555556</td>\n",
       "    </tr>\n",
       "  </tbody>\n",
       "</table>\n",
       "</div>"
      ],
      "text/plain": [
       "                     date                     city state         country  \\\n",
       "559   1983-10-01 17:00:00  birmingham (uk/england)   NaN  Great Brittain   \n",
       "53384 2010-06-03 23:30:00          ottawa (canada)    on          Canada   \n",
       "74660 1991-09-15 18:00:00               greenbrier    ar   United States   \n",
       "64390 2012-08-10 21:00:00                   finley    wa   United States   \n",
       "38261 1983-04-03 00:00:00                dont know   NaN             NaN   \n",
       "\n",
       "        shape  duration_sec duration_min_hour  \\\n",
       "559    sphere    97836000.0          31 years   \n",
       "53384   other    82800000.0          23000hrs   \n",
       "74660   light    66276000.0          21 years   \n",
       "64390   light    52623200.0          2 months   \n",
       "38261     NaN    52623200.0          2 months   \n",
       "\n",
       "                                                comments date_posted  \\\n",
       "559    Firstly&#44 I was stunned and stared at the ob...  2013-04-12   \n",
       "53384  ((HOAX??))  I was out in a field near mil&#44 ...  2010-07-06   \n",
       "74660  Orange or amber balls or orbs of light multipl...  2008-03-31   \n",
       "64390  There have been several flying objects in a pe...  2012-08-19   \n",
       "38261  Hi&#44  I&#8217;m writing to you because I wan...  2004-07-25   \n",
       "\n",
       "             lat        long  year  duration_min  duration_hour  \n",
       "559    52.466667   -1.916667  1983  1.630600e+06   27176.666667  \n",
       "53384  45.416667  -75.700000  2010  1.380000e+06   23000.000000  \n",
       "74660  35.233889  -92.387500  1991  1.104600e+06   18410.000000  \n",
       "64390  46.154167 -119.032778  2012  8.770533e+05   14617.555556  \n",
       "38261  41.730561  -78.682099  1983  8.770533e+05   14617.555556  "
      ]
     },
     "execution_count": 51,
     "metadata": {},
     "output_type": "execute_result"
    }
   ],
   "source": [
    "#show top 5 records with the most duration\n",
    "df_ufo.sort_values(by='duration_hour', ascending=False).head(5)"
   ]
  },
  {
   "cell_type": "markdown",
   "metadata": {},
   "source": [
    "It seems from the report comment that the duration of 3 years was indeed an error."
   ]
  },
  {
   "cell_type": "code",
   "execution_count": 52,
   "metadata": {},
   "outputs": [
    {
     "data": {
      "text/plain": [
       "['Firstly&#44 I was stunned and stared at the object for what seemed minutes&#44 but probably was only seconds. My first inclination was to bec']"
      ]
     },
     "execution_count": 52,
     "metadata": {},
     "output_type": "execute_result"
    }
   ],
   "source": [
    "list(df_ufo[df_ufo['date'] == '1983-10-01 17:00:00']['comments'])"
   ]
  },
  {
   "cell_type": "code",
   "execution_count": 55,
   "metadata": {},
   "outputs": [
    {
     "data": {
      "text/plain": [
       "0"
      ]
     },
     "execution_count": 55,
     "metadata": {},
     "output_type": "execute_result"
    }
   ],
   "source": [
    "# count rows where duration hours is more than 24\n",
    "df_ufo[df_ufo['duration_hour'] > 24].shape[0]"
   ]
  },
  {
   "cell_type": "markdown",
   "metadata": {},
   "source": [
    "Reports with a duration of more than a day seems implausible. There are in total 179 of them. Let's remove them since our dataset is already large enough and it would only make our charts deteriorated."
   ]
  },
  {
   "cell_type": "code",
   "execution_count": 56,
   "metadata": {},
   "outputs": [],
   "source": [
    "# remove records with duration_hour more than 24\n",
    "df_ufo = df_ufo[df_ufo['duration_hour'] <= 24]"
   ]
  },
  {
   "cell_type": "markdown",
   "metadata": {},
   "source": [
    "## Data Inference using Plotly Express"
   ]
  },
  {
   "cell_type": "markdown",
   "metadata": {},
   "source": [
    "Let's use Plotly Express to visualize the data and answer the business questions we layed out above."
   ]
  },
  {
   "cell_type": "markdown",
   "metadata": {},
   "source": [
    "### 1. Figure out which shapes of UFOs tend to be seen most often."
   ]
  },
  {
   "cell_type": "code",
   "execution_count": 35,
   "metadata": {},
   "outputs": [],
   "source": [
    "#create title and labels\n",
    "title = 'Distribution of Reported Shapes'\n",
    "\n",
    "labels = {'shape': 'Shape', 'count': 'Frequency'}"
   ]
  },
  {
   "cell_type": "code",
   "execution_count": 36,
   "metadata": {},
   "outputs": [
    {
     "data": {
      "application/vnd.plotly.v1+json": {
       "config": {
        "plotlyServerURL": "https://plot.ly"
       },
       "data": [
        {
         "alignmentgroup": "True",
         "hovertemplate": "Shape=%{x}<br>Frequency=%{y}<extra></extra>",
         "legendgroup": "",
         "marker": {
          "color": "#636efa",
          "pattern": {
           "shape": ""
          }
         },
         "name": "",
         "offsetgroup": "",
         "orientation": "v",
         "showlegend": false,
         "textposition": "auto",
         "type": "bar",
         "x": [
          "light",
          "triangle",
          "circle",
          "fireball",
          "other",
          "unknown",
          "sphere",
          "disk",
          "oval",
          "formation"
         ],
         "xaxis": "x",
         "y": [
          16565,
          7865,
          7608,
          6208,
          5649,
          5584,
          5387,
          5213,
          3733,
          2457
         ],
         "yaxis": "y"
        }
       ],
       "layout": {
        "barmode": "relative",
        "legend": {
         "tracegroupgap": 0
        },
        "template": {
         "data": {
          "bar": [
           {
            "error_x": {
             "color": "#2a3f5f"
            },
            "error_y": {
             "color": "#2a3f5f"
            },
            "marker": {
             "line": {
              "color": "#E5ECF6",
              "width": 0.5
             },
             "pattern": {
              "fillmode": "overlay",
              "size": 10,
              "solidity": 0.2
             }
            },
            "type": "bar"
           }
          ],
          "barpolar": [
           {
            "marker": {
             "line": {
              "color": "#E5ECF6",
              "width": 0.5
             },
             "pattern": {
              "fillmode": "overlay",
              "size": 10,
              "solidity": 0.2
             }
            },
            "type": "barpolar"
           }
          ],
          "carpet": [
           {
            "aaxis": {
             "endlinecolor": "#2a3f5f",
             "gridcolor": "white",
             "linecolor": "white",
             "minorgridcolor": "white",
             "startlinecolor": "#2a3f5f"
            },
            "baxis": {
             "endlinecolor": "#2a3f5f",
             "gridcolor": "white",
             "linecolor": "white",
             "minorgridcolor": "white",
             "startlinecolor": "#2a3f5f"
            },
            "type": "carpet"
           }
          ],
          "choropleth": [
           {
            "colorbar": {
             "outlinewidth": 0,
             "ticks": ""
            },
            "type": "choropleth"
           }
          ],
          "contour": [
           {
            "colorbar": {
             "outlinewidth": 0,
             "ticks": ""
            },
            "colorscale": [
             [
              0,
              "#0d0887"
             ],
             [
              0.1111111111111111,
              "#46039f"
             ],
             [
              0.2222222222222222,
              "#7201a8"
             ],
             [
              0.3333333333333333,
              "#9c179e"
             ],
             [
              0.4444444444444444,
              "#bd3786"
             ],
             [
              0.5555555555555556,
              "#d8576b"
             ],
             [
              0.6666666666666666,
              "#ed7953"
             ],
             [
              0.7777777777777778,
              "#fb9f3a"
             ],
             [
              0.8888888888888888,
              "#fdca26"
             ],
             [
              1,
              "#f0f921"
             ]
            ],
            "type": "contour"
           }
          ],
          "contourcarpet": [
           {
            "colorbar": {
             "outlinewidth": 0,
             "ticks": ""
            },
            "type": "contourcarpet"
           }
          ],
          "heatmap": [
           {
            "colorbar": {
             "outlinewidth": 0,
             "ticks": ""
            },
            "colorscale": [
             [
              0,
              "#0d0887"
             ],
             [
              0.1111111111111111,
              "#46039f"
             ],
             [
              0.2222222222222222,
              "#7201a8"
             ],
             [
              0.3333333333333333,
              "#9c179e"
             ],
             [
              0.4444444444444444,
              "#bd3786"
             ],
             [
              0.5555555555555556,
              "#d8576b"
             ],
             [
              0.6666666666666666,
              "#ed7953"
             ],
             [
              0.7777777777777778,
              "#fb9f3a"
             ],
             [
              0.8888888888888888,
              "#fdca26"
             ],
             [
              1,
              "#f0f921"
             ]
            ],
            "type": "heatmap"
           }
          ],
          "heatmapgl": [
           {
            "colorbar": {
             "outlinewidth": 0,
             "ticks": ""
            },
            "colorscale": [
             [
              0,
              "#0d0887"
             ],
             [
              0.1111111111111111,
              "#46039f"
             ],
             [
              0.2222222222222222,
              "#7201a8"
             ],
             [
              0.3333333333333333,
              "#9c179e"
             ],
             [
              0.4444444444444444,
              "#bd3786"
             ],
             [
              0.5555555555555556,
              "#d8576b"
             ],
             [
              0.6666666666666666,
              "#ed7953"
             ],
             [
              0.7777777777777778,
              "#fb9f3a"
             ],
             [
              0.8888888888888888,
              "#fdca26"
             ],
             [
              1,
              "#f0f921"
             ]
            ],
            "type": "heatmapgl"
           }
          ],
          "histogram": [
           {
            "marker": {
             "pattern": {
              "fillmode": "overlay",
              "size": 10,
              "solidity": 0.2
             }
            },
            "type": "histogram"
           }
          ],
          "histogram2d": [
           {
            "colorbar": {
             "outlinewidth": 0,
             "ticks": ""
            },
            "colorscale": [
             [
              0,
              "#0d0887"
             ],
             [
              0.1111111111111111,
              "#46039f"
             ],
             [
              0.2222222222222222,
              "#7201a8"
             ],
             [
              0.3333333333333333,
              "#9c179e"
             ],
             [
              0.4444444444444444,
              "#bd3786"
             ],
             [
              0.5555555555555556,
              "#d8576b"
             ],
             [
              0.6666666666666666,
              "#ed7953"
             ],
             [
              0.7777777777777778,
              "#fb9f3a"
             ],
             [
              0.8888888888888888,
              "#fdca26"
             ],
             [
              1,
              "#f0f921"
             ]
            ],
            "type": "histogram2d"
           }
          ],
          "histogram2dcontour": [
           {
            "colorbar": {
             "outlinewidth": 0,
             "ticks": ""
            },
            "colorscale": [
             [
              0,
              "#0d0887"
             ],
             [
              0.1111111111111111,
              "#46039f"
             ],
             [
              0.2222222222222222,
              "#7201a8"
             ],
             [
              0.3333333333333333,
              "#9c179e"
             ],
             [
              0.4444444444444444,
              "#bd3786"
             ],
             [
              0.5555555555555556,
              "#d8576b"
             ],
             [
              0.6666666666666666,
              "#ed7953"
             ],
             [
              0.7777777777777778,
              "#fb9f3a"
             ],
             [
              0.8888888888888888,
              "#fdca26"
             ],
             [
              1,
              "#f0f921"
             ]
            ],
            "type": "histogram2dcontour"
           }
          ],
          "mesh3d": [
           {
            "colorbar": {
             "outlinewidth": 0,
             "ticks": ""
            },
            "type": "mesh3d"
           }
          ],
          "parcoords": [
           {
            "line": {
             "colorbar": {
              "outlinewidth": 0,
              "ticks": ""
             }
            },
            "type": "parcoords"
           }
          ],
          "pie": [
           {
            "automargin": true,
            "type": "pie"
           }
          ],
          "scatter": [
           {
            "fillpattern": {
             "fillmode": "overlay",
             "size": 10,
             "solidity": 0.2
            },
            "type": "scatter"
           }
          ],
          "scatter3d": [
           {
            "line": {
             "colorbar": {
              "outlinewidth": 0,
              "ticks": ""
             }
            },
            "marker": {
             "colorbar": {
              "outlinewidth": 0,
              "ticks": ""
             }
            },
            "type": "scatter3d"
           }
          ],
          "scattercarpet": [
           {
            "marker": {
             "colorbar": {
              "outlinewidth": 0,
              "ticks": ""
             }
            },
            "type": "scattercarpet"
           }
          ],
          "scattergeo": [
           {
            "marker": {
             "colorbar": {
              "outlinewidth": 0,
              "ticks": ""
             }
            },
            "type": "scattergeo"
           }
          ],
          "scattergl": [
           {
            "marker": {
             "colorbar": {
              "outlinewidth": 0,
              "ticks": ""
             }
            },
            "type": "scattergl"
           }
          ],
          "scattermapbox": [
           {
            "marker": {
             "colorbar": {
              "outlinewidth": 0,
              "ticks": ""
             }
            },
            "type": "scattermapbox"
           }
          ],
          "scatterpolar": [
           {
            "marker": {
             "colorbar": {
              "outlinewidth": 0,
              "ticks": ""
             }
            },
            "type": "scatterpolar"
           }
          ],
          "scatterpolargl": [
           {
            "marker": {
             "colorbar": {
              "outlinewidth": 0,
              "ticks": ""
             }
            },
            "type": "scatterpolargl"
           }
          ],
          "scatterternary": [
           {
            "marker": {
             "colorbar": {
              "outlinewidth": 0,
              "ticks": ""
             }
            },
            "type": "scatterternary"
           }
          ],
          "surface": [
           {
            "colorbar": {
             "outlinewidth": 0,
             "ticks": ""
            },
            "colorscale": [
             [
              0,
              "#0d0887"
             ],
             [
              0.1111111111111111,
              "#46039f"
             ],
             [
              0.2222222222222222,
              "#7201a8"
             ],
             [
              0.3333333333333333,
              "#9c179e"
             ],
             [
              0.4444444444444444,
              "#bd3786"
             ],
             [
              0.5555555555555556,
              "#d8576b"
             ],
             [
              0.6666666666666666,
              "#ed7953"
             ],
             [
              0.7777777777777778,
              "#fb9f3a"
             ],
             [
              0.8888888888888888,
              "#fdca26"
             ],
             [
              1,
              "#f0f921"
             ]
            ],
            "type": "surface"
           }
          ],
          "table": [
           {
            "cells": {
             "fill": {
              "color": "#EBF0F8"
             },
             "line": {
              "color": "white"
             }
            },
            "header": {
             "fill": {
              "color": "#C8D4E3"
             },
             "line": {
              "color": "white"
             }
            },
            "type": "table"
           }
          ]
         },
         "layout": {
          "annotationdefaults": {
           "arrowcolor": "#2a3f5f",
           "arrowhead": 0,
           "arrowwidth": 1
          },
          "autotypenumbers": "strict",
          "coloraxis": {
           "colorbar": {
            "outlinewidth": 0,
            "ticks": ""
           }
          },
          "colorscale": {
           "diverging": [
            [
             0,
             "#8e0152"
            ],
            [
             0.1,
             "#c51b7d"
            ],
            [
             0.2,
             "#de77ae"
            ],
            [
             0.3,
             "#f1b6da"
            ],
            [
             0.4,
             "#fde0ef"
            ],
            [
             0.5,
             "#f7f7f7"
            ],
            [
             0.6,
             "#e6f5d0"
            ],
            [
             0.7,
             "#b8e186"
            ],
            [
             0.8,
             "#7fbc41"
            ],
            [
             0.9,
             "#4d9221"
            ],
            [
             1,
             "#276419"
            ]
           ],
           "sequential": [
            [
             0,
             "#0d0887"
            ],
            [
             0.1111111111111111,
             "#46039f"
            ],
            [
             0.2222222222222222,
             "#7201a8"
            ],
            [
             0.3333333333333333,
             "#9c179e"
            ],
            [
             0.4444444444444444,
             "#bd3786"
            ],
            [
             0.5555555555555556,
             "#d8576b"
            ],
            [
             0.6666666666666666,
             "#ed7953"
            ],
            [
             0.7777777777777778,
             "#fb9f3a"
            ],
            [
             0.8888888888888888,
             "#fdca26"
            ],
            [
             1,
             "#f0f921"
            ]
           ],
           "sequentialminus": [
            [
             0,
             "#0d0887"
            ],
            [
             0.1111111111111111,
             "#46039f"
            ],
            [
             0.2222222222222222,
             "#7201a8"
            ],
            [
             0.3333333333333333,
             "#9c179e"
            ],
            [
             0.4444444444444444,
             "#bd3786"
            ],
            [
             0.5555555555555556,
             "#d8576b"
            ],
            [
             0.6666666666666666,
             "#ed7953"
            ],
            [
             0.7777777777777778,
             "#fb9f3a"
            ],
            [
             0.8888888888888888,
             "#fdca26"
            ],
            [
             1,
             "#f0f921"
            ]
           ]
          },
          "colorway": [
           "#636efa",
           "#EF553B",
           "#00cc96",
           "#ab63fa",
           "#FFA15A",
           "#19d3f3",
           "#FF6692",
           "#B6E880",
           "#FF97FF",
           "#FECB52"
          ],
          "font": {
           "color": "#2a3f5f"
          },
          "geo": {
           "bgcolor": "white",
           "lakecolor": "white",
           "landcolor": "#E5ECF6",
           "showlakes": true,
           "showland": true,
           "subunitcolor": "white"
          },
          "hoverlabel": {
           "align": "left"
          },
          "hovermode": "closest",
          "mapbox": {
           "style": "light"
          },
          "paper_bgcolor": "white",
          "plot_bgcolor": "#E5ECF6",
          "polar": {
           "angularaxis": {
            "gridcolor": "white",
            "linecolor": "white",
            "ticks": ""
           },
           "bgcolor": "#E5ECF6",
           "radialaxis": {
            "gridcolor": "white",
            "linecolor": "white",
            "ticks": ""
           }
          },
          "scene": {
           "xaxis": {
            "backgroundcolor": "#E5ECF6",
            "gridcolor": "white",
            "gridwidth": 2,
            "linecolor": "white",
            "showbackground": true,
            "ticks": "",
            "zerolinecolor": "white"
           },
           "yaxis": {
            "backgroundcolor": "#E5ECF6",
            "gridcolor": "white",
            "gridwidth": 2,
            "linecolor": "white",
            "showbackground": true,
            "ticks": "",
            "zerolinecolor": "white"
           },
           "zaxis": {
            "backgroundcolor": "#E5ECF6",
            "gridcolor": "white",
            "gridwidth": 2,
            "linecolor": "white",
            "showbackground": true,
            "ticks": "",
            "zerolinecolor": "white"
           }
          },
          "shapedefaults": {
           "line": {
            "color": "#2a3f5f"
           }
          },
          "ternary": {
           "aaxis": {
            "gridcolor": "white",
            "linecolor": "white",
            "ticks": ""
           },
           "baxis": {
            "gridcolor": "white",
            "linecolor": "white",
            "ticks": ""
           },
           "bgcolor": "#E5ECF6",
           "caxis": {
            "gridcolor": "white",
            "linecolor": "white",
            "ticks": ""
           }
          },
          "title": {
           "x": 0.05
          },
          "xaxis": {
           "automargin": true,
           "gridcolor": "white",
           "linecolor": "white",
           "ticks": "",
           "title": {
            "standoff": 15
           },
           "zerolinecolor": "white",
           "zerolinewidth": 2
          },
          "yaxis": {
           "automargin": true,
           "gridcolor": "white",
           "linecolor": "white",
           "ticks": "",
           "title": {
            "standoff": 15
           },
           "zerolinecolor": "white",
           "zerolinewidth": 2
          }
         }
        },
        "title": {
         "text": "Distribution of Reported Shapes"
        },
        "xaxis": {
         "anchor": "y",
         "categoryorder": "total ascending",
         "domain": [
          0,
          1
         ],
         "title": {
          "text": "Shape"
         }
        },
        "yaxis": {
         "anchor": "x",
         "domain": [
          0,
          1
         ],
         "title": {
          "text": "Frequency"
         }
        }
       }
      }
     },
     "metadata": {},
     "output_type": "display_data"
    }
   ],
   "source": [
    "#calculate frwequency of shapes and keep top 10\n",
    "dfg = df_ufo.groupby(['shape']).size().to_frame().sort_values([0], ascending = False).head(10).reset_index()\n",
    "\n",
    "#we have to rename the columns because of multindexing\n",
    "dfg.columns = ['shape', 'count']\n",
    "\n",
    "#use plotly bar to create a bar chart and order by count\n",
    "shapesbar = px.bar(dfg, x ='shape', y='count',\n",
    "                    title = title, labels = labels\n",
    "                    ).update_xaxes(categoryorder='total ascending')\n",
    "shapesbar.show()"
   ]
  },
  {
   "cell_type": "markdown",
   "metadata": {},
   "source": [
    "It seems that most of the reporters have seen UFOs in the form of lights in the sky. This is pretty vague and could be attributed to the fact that people tend to mistake anti-collison lights of airplanes for UFOs."
   ]
  },
  {
   "cell_type": "markdown",
   "metadata": {},
   "source": [
    "### 2. Take a look at data since the year 2000. How have annual sightings trended?\n",
    "\n",
    "Next, let's see how annual sightings have tended over the years by countries"
   ]
  },
  {
   "cell_type": "code",
   "execution_count": 37,
   "metadata": {},
   "outputs": [
    {
     "data": {
      "text/plain": [
       "us    71528\n",
       "ca     3000\n",
       "gb     1905\n",
       "au      538\n",
       "de      105\n",
       "Name: country, dtype: int64"
      ]
     },
     "execution_count": 37,
     "metadata": {},
     "output_type": "execute_result"
    }
   ],
   "source": [
    "#since there are not much country in our data to make it, let's facet it by country\n",
    "df_ufo['country'].value_counts()"
   ]
  },
  {
   "cell_type": "code",
   "execution_count": 38,
   "metadata": {},
   "outputs": [],
   "source": [
    "#rename country values to full name for legend labels\n",
    "df_ufo = df_ufo.replace({'country' : { 'us' : 'United States', 'ca' : 'Canada', 'gb' : 'Great Brittain', 'au' : 'Australia', 'de' : 'Germany'}})"
   ]
  },
  {
   "cell_type": "code",
   "execution_count": 39,
   "metadata": {},
   "outputs": [],
   "source": [
    "#create title and labels\n",
    "title = 'Distribution of Reported Shapes by Country'\n",
    "\n",
    "labels = {'country': 'Country', 'date': 'Date', 'count': 'Frequency'}"
   ]
  },
  {
   "cell_type": "code",
   "execution_count": 40,
   "metadata": {},
   "outputs": [
    {
     "data": {
      "application/vnd.plotly.v1+json": {
       "config": {
        "plotlyServerURL": "https://plot.ly"
       },
       "data": [
        {
         "hovertemplate": "Country=Australia<br>year=%{x}<br>Frequency=%{y}<extra></extra>",
         "legendgroup": "Australia",
         "line": {
          "color": "#636efa",
          "dash": "solid"
         },
         "marker": {
          "symbol": "circle"
         },
         "mode": "lines",
         "name": "Australia",
         "orientation": "v",
         "showlegend": true,
         "type": "scatter",
         "x": [
          1990,
          1991,
          1992,
          1993,
          1994,
          1995,
          1996,
          1997,
          1998,
          1999,
          2000,
          2001,
          2002,
          2003,
          2004,
          2005,
          2006,
          2007,
          2008,
          2009,
          2010,
          2011,
          2012,
          2013,
          2014
         ],
         "xaxis": "x",
         "y": [
          3,
          2,
          5,
          2,
          1,
          3,
          8,
          9,
          12,
          19,
          22,
          36,
          47,
          50,
          43,
          48,
          37,
          27,
          17,
          14,
          16,
          13,
          19,
          32,
          14
         ],
         "yaxis": "y"
        },
        {
         "hovertemplate": "Country=Canada<br>year=%{x}<br>Frequency=%{y}<extra></extra>",
         "legendgroup": "Canada",
         "line": {
          "color": "#EF553B",
          "dash": "solid"
         },
         "marker": {
          "symbol": "circle"
         },
         "mode": "lines",
         "name": "Canada",
         "orientation": "v",
         "showlegend": true,
         "type": "scatter",
         "x": [
          1990,
          1991,
          1992,
          1993,
          1994,
          1995,
          1996,
          1997,
          1998,
          1999,
          2000,
          2001,
          2002,
          2003,
          2004,
          2005,
          2006,
          2007,
          2008,
          2009,
          2010,
          2011,
          2012,
          2013,
          2014
         ],
         "xaxis": "x",
         "y": [
          14,
          8,
          10,
          11,
          17,
          18,
          29,
          40,
          61,
          96,
          102,
          136,
          166,
          294,
          265,
          183,
          143,
          160,
          119,
          134,
          137,
          127,
          242,
          248,
          45
         ],
         "yaxis": "y"
        },
        {
         "hovertemplate": "Country=Germany<br>year=%{x}<br>Frequency=%{y}<extra></extra>",
         "legendgroup": "Germany",
         "line": {
          "color": "#00cc96",
          "dash": "solid"
         },
         "marker": {
          "symbol": "circle"
         },
         "mode": "lines",
         "name": "Germany",
         "orientation": "v",
         "showlegend": true,
         "type": "scatter",
         "x": [
          1990,
          1991,
          1992,
          1994,
          1995,
          1996,
          1997,
          1998,
          1999,
          2000,
          2001,
          2002,
          2003,
          2004,
          2005,
          2006,
          2007,
          2008,
          2009,
          2010,
          2011,
          2012,
          2013,
          2014
         ],
         "xaxis": "x",
         "y": [
          2,
          1,
          1,
          1,
          1,
          2,
          1,
          1,
          1,
          3,
          3,
          3,
          7,
          5,
          3,
          4,
          9,
          15,
          6,
          4,
          3,
          6,
          6,
          3
         ],
         "yaxis": "y"
        },
        {
         "hovertemplate": "Country=Great Brittain<br>year=%{x}<br>Frequency=%{y}<extra></extra>",
         "legendgroup": "Great Brittain",
         "line": {
          "color": "#ab63fa",
          "dash": "solid"
         },
         "marker": {
          "symbol": "circle"
         },
         "mode": "lines",
         "name": "Great Brittain",
         "orientation": "v",
         "showlegend": true,
         "type": "scatter",
         "x": [
          1990,
          1991,
          1992,
          1993,
          1994,
          1995,
          1996,
          1997,
          1998,
          1999,
          2000,
          2001,
          2002,
          2003,
          2004,
          2005,
          2006,
          2007,
          2008,
          2009,
          2010,
          2011,
          2012,
          2013,
          2014
         ],
         "xaxis": "x",
         "y": [
          4,
          1,
          6,
          15,
          4,
          14,
          24,
          32,
          30,
          34,
          78,
          117,
          130,
          130,
          110,
          116,
          163,
          125,
          140,
          202,
          115,
          51,
          82,
          48,
          21
         ],
         "yaxis": "y"
        },
        {
         "hovertemplate": "Country=United States<br>year=%{x}<br>Frequency=%{y}<extra></extra>",
         "legendgroup": "United States",
         "line": {
          "color": "#FFA15A",
          "dash": "solid"
         },
         "marker": {
          "symbol": "circle"
         },
         "mode": "lines",
         "name": "United States",
         "orientation": "v",
         "showlegend": true,
         "type": "scatter",
         "x": [
          1990,
          1991,
          1992,
          1993,
          1994,
          1995,
          1996,
          1997,
          1998,
          1999,
          2000,
          2001,
          2002,
          2003,
          2004,
          2005,
          2006,
          2007,
          2008,
          2009,
          2010,
          2011,
          2012,
          2013,
          2014
         ],
         "xaxis": "x",
         "y": [
          219,
          209,
          216,
          266,
          366,
          1016,
          733,
          1131,
          1597,
          2548,
          2440,
          2670,
          2698,
          3255,
          3603,
          3552,
          3184,
          3775,
          4340,
          3984,
          3862,
          4770,
          6806,
          6554,
          2113
         ],
         "yaxis": "y"
        }
       ],
       "layout": {
        "legend": {
         "title": {
          "text": "Country"
         },
         "tracegroupgap": 0
        },
        "template": {
         "data": {
          "bar": [
           {
            "error_x": {
             "color": "#2a3f5f"
            },
            "error_y": {
             "color": "#2a3f5f"
            },
            "marker": {
             "line": {
              "color": "#E5ECF6",
              "width": 0.5
             },
             "pattern": {
              "fillmode": "overlay",
              "size": 10,
              "solidity": 0.2
             }
            },
            "type": "bar"
           }
          ],
          "barpolar": [
           {
            "marker": {
             "line": {
              "color": "#E5ECF6",
              "width": 0.5
             },
             "pattern": {
              "fillmode": "overlay",
              "size": 10,
              "solidity": 0.2
             }
            },
            "type": "barpolar"
           }
          ],
          "carpet": [
           {
            "aaxis": {
             "endlinecolor": "#2a3f5f",
             "gridcolor": "white",
             "linecolor": "white",
             "minorgridcolor": "white",
             "startlinecolor": "#2a3f5f"
            },
            "baxis": {
             "endlinecolor": "#2a3f5f",
             "gridcolor": "white",
             "linecolor": "white",
             "minorgridcolor": "white",
             "startlinecolor": "#2a3f5f"
            },
            "type": "carpet"
           }
          ],
          "choropleth": [
           {
            "colorbar": {
             "outlinewidth": 0,
             "ticks": ""
            },
            "type": "choropleth"
           }
          ],
          "contour": [
           {
            "colorbar": {
             "outlinewidth": 0,
             "ticks": ""
            },
            "colorscale": [
             [
              0,
              "#0d0887"
             ],
             [
              0.1111111111111111,
              "#46039f"
             ],
             [
              0.2222222222222222,
              "#7201a8"
             ],
             [
              0.3333333333333333,
              "#9c179e"
             ],
             [
              0.4444444444444444,
              "#bd3786"
             ],
             [
              0.5555555555555556,
              "#d8576b"
             ],
             [
              0.6666666666666666,
              "#ed7953"
             ],
             [
              0.7777777777777778,
              "#fb9f3a"
             ],
             [
              0.8888888888888888,
              "#fdca26"
             ],
             [
              1,
              "#f0f921"
             ]
            ],
            "type": "contour"
           }
          ],
          "contourcarpet": [
           {
            "colorbar": {
             "outlinewidth": 0,
             "ticks": ""
            },
            "type": "contourcarpet"
           }
          ],
          "heatmap": [
           {
            "colorbar": {
             "outlinewidth": 0,
             "ticks": ""
            },
            "colorscale": [
             [
              0,
              "#0d0887"
             ],
             [
              0.1111111111111111,
              "#46039f"
             ],
             [
              0.2222222222222222,
              "#7201a8"
             ],
             [
              0.3333333333333333,
              "#9c179e"
             ],
             [
              0.4444444444444444,
              "#bd3786"
             ],
             [
              0.5555555555555556,
              "#d8576b"
             ],
             [
              0.6666666666666666,
              "#ed7953"
             ],
             [
              0.7777777777777778,
              "#fb9f3a"
             ],
             [
              0.8888888888888888,
              "#fdca26"
             ],
             [
              1,
              "#f0f921"
             ]
            ],
            "type": "heatmap"
           }
          ],
          "heatmapgl": [
           {
            "colorbar": {
             "outlinewidth": 0,
             "ticks": ""
            },
            "colorscale": [
             [
              0,
              "#0d0887"
             ],
             [
              0.1111111111111111,
              "#46039f"
             ],
             [
              0.2222222222222222,
              "#7201a8"
             ],
             [
              0.3333333333333333,
              "#9c179e"
             ],
             [
              0.4444444444444444,
              "#bd3786"
             ],
             [
              0.5555555555555556,
              "#d8576b"
             ],
             [
              0.6666666666666666,
              "#ed7953"
             ],
             [
              0.7777777777777778,
              "#fb9f3a"
             ],
             [
              0.8888888888888888,
              "#fdca26"
             ],
             [
              1,
              "#f0f921"
             ]
            ],
            "type": "heatmapgl"
           }
          ],
          "histogram": [
           {
            "marker": {
             "pattern": {
              "fillmode": "overlay",
              "size": 10,
              "solidity": 0.2
             }
            },
            "type": "histogram"
           }
          ],
          "histogram2d": [
           {
            "colorbar": {
             "outlinewidth": 0,
             "ticks": ""
            },
            "colorscale": [
             [
              0,
              "#0d0887"
             ],
             [
              0.1111111111111111,
              "#46039f"
             ],
             [
              0.2222222222222222,
              "#7201a8"
             ],
             [
              0.3333333333333333,
              "#9c179e"
             ],
             [
              0.4444444444444444,
              "#bd3786"
             ],
             [
              0.5555555555555556,
              "#d8576b"
             ],
             [
              0.6666666666666666,
              "#ed7953"
             ],
             [
              0.7777777777777778,
              "#fb9f3a"
             ],
             [
              0.8888888888888888,
              "#fdca26"
             ],
             [
              1,
              "#f0f921"
             ]
            ],
            "type": "histogram2d"
           }
          ],
          "histogram2dcontour": [
           {
            "colorbar": {
             "outlinewidth": 0,
             "ticks": ""
            },
            "colorscale": [
             [
              0,
              "#0d0887"
             ],
             [
              0.1111111111111111,
              "#46039f"
             ],
             [
              0.2222222222222222,
              "#7201a8"
             ],
             [
              0.3333333333333333,
              "#9c179e"
             ],
             [
              0.4444444444444444,
              "#bd3786"
             ],
             [
              0.5555555555555556,
              "#d8576b"
             ],
             [
              0.6666666666666666,
              "#ed7953"
             ],
             [
              0.7777777777777778,
              "#fb9f3a"
             ],
             [
              0.8888888888888888,
              "#fdca26"
             ],
             [
              1,
              "#f0f921"
             ]
            ],
            "type": "histogram2dcontour"
           }
          ],
          "mesh3d": [
           {
            "colorbar": {
             "outlinewidth": 0,
             "ticks": ""
            },
            "type": "mesh3d"
           }
          ],
          "parcoords": [
           {
            "line": {
             "colorbar": {
              "outlinewidth": 0,
              "ticks": ""
             }
            },
            "type": "parcoords"
           }
          ],
          "pie": [
           {
            "automargin": true,
            "type": "pie"
           }
          ],
          "scatter": [
           {
            "fillpattern": {
             "fillmode": "overlay",
             "size": 10,
             "solidity": 0.2
            },
            "type": "scatter"
           }
          ],
          "scatter3d": [
           {
            "line": {
             "colorbar": {
              "outlinewidth": 0,
              "ticks": ""
             }
            },
            "marker": {
             "colorbar": {
              "outlinewidth": 0,
              "ticks": ""
             }
            },
            "type": "scatter3d"
           }
          ],
          "scattercarpet": [
           {
            "marker": {
             "colorbar": {
              "outlinewidth": 0,
              "ticks": ""
             }
            },
            "type": "scattercarpet"
           }
          ],
          "scattergeo": [
           {
            "marker": {
             "colorbar": {
              "outlinewidth": 0,
              "ticks": ""
             }
            },
            "type": "scattergeo"
           }
          ],
          "scattergl": [
           {
            "marker": {
             "colorbar": {
              "outlinewidth": 0,
              "ticks": ""
             }
            },
            "type": "scattergl"
           }
          ],
          "scattermapbox": [
           {
            "marker": {
             "colorbar": {
              "outlinewidth": 0,
              "ticks": ""
             }
            },
            "type": "scattermapbox"
           }
          ],
          "scatterpolar": [
           {
            "marker": {
             "colorbar": {
              "outlinewidth": 0,
              "ticks": ""
             }
            },
            "type": "scatterpolar"
           }
          ],
          "scatterpolargl": [
           {
            "marker": {
             "colorbar": {
              "outlinewidth": 0,
              "ticks": ""
             }
            },
            "type": "scatterpolargl"
           }
          ],
          "scatterternary": [
           {
            "marker": {
             "colorbar": {
              "outlinewidth": 0,
              "ticks": ""
             }
            },
            "type": "scatterternary"
           }
          ],
          "surface": [
           {
            "colorbar": {
             "outlinewidth": 0,
             "ticks": ""
            },
            "colorscale": [
             [
              0,
              "#0d0887"
             ],
             [
              0.1111111111111111,
              "#46039f"
             ],
             [
              0.2222222222222222,
              "#7201a8"
             ],
             [
              0.3333333333333333,
              "#9c179e"
             ],
             [
              0.4444444444444444,
              "#bd3786"
             ],
             [
              0.5555555555555556,
              "#d8576b"
             ],
             [
              0.6666666666666666,
              "#ed7953"
             ],
             [
              0.7777777777777778,
              "#fb9f3a"
             ],
             [
              0.8888888888888888,
              "#fdca26"
             ],
             [
              1,
              "#f0f921"
             ]
            ],
            "type": "surface"
           }
          ],
          "table": [
           {
            "cells": {
             "fill": {
              "color": "#EBF0F8"
             },
             "line": {
              "color": "white"
             }
            },
            "header": {
             "fill": {
              "color": "#C8D4E3"
             },
             "line": {
              "color": "white"
             }
            },
            "type": "table"
           }
          ]
         },
         "layout": {
          "annotationdefaults": {
           "arrowcolor": "#2a3f5f",
           "arrowhead": 0,
           "arrowwidth": 1
          },
          "autotypenumbers": "strict",
          "coloraxis": {
           "colorbar": {
            "outlinewidth": 0,
            "ticks": ""
           }
          },
          "colorscale": {
           "diverging": [
            [
             0,
             "#8e0152"
            ],
            [
             0.1,
             "#c51b7d"
            ],
            [
             0.2,
             "#de77ae"
            ],
            [
             0.3,
             "#f1b6da"
            ],
            [
             0.4,
             "#fde0ef"
            ],
            [
             0.5,
             "#f7f7f7"
            ],
            [
             0.6,
             "#e6f5d0"
            ],
            [
             0.7,
             "#b8e186"
            ],
            [
             0.8,
             "#7fbc41"
            ],
            [
             0.9,
             "#4d9221"
            ],
            [
             1,
             "#276419"
            ]
           ],
           "sequential": [
            [
             0,
             "#0d0887"
            ],
            [
             0.1111111111111111,
             "#46039f"
            ],
            [
             0.2222222222222222,
             "#7201a8"
            ],
            [
             0.3333333333333333,
             "#9c179e"
            ],
            [
             0.4444444444444444,
             "#bd3786"
            ],
            [
             0.5555555555555556,
             "#d8576b"
            ],
            [
             0.6666666666666666,
             "#ed7953"
            ],
            [
             0.7777777777777778,
             "#fb9f3a"
            ],
            [
             0.8888888888888888,
             "#fdca26"
            ],
            [
             1,
             "#f0f921"
            ]
           ],
           "sequentialminus": [
            [
             0,
             "#0d0887"
            ],
            [
             0.1111111111111111,
             "#46039f"
            ],
            [
             0.2222222222222222,
             "#7201a8"
            ],
            [
             0.3333333333333333,
             "#9c179e"
            ],
            [
             0.4444444444444444,
             "#bd3786"
            ],
            [
             0.5555555555555556,
             "#d8576b"
            ],
            [
             0.6666666666666666,
             "#ed7953"
            ],
            [
             0.7777777777777778,
             "#fb9f3a"
            ],
            [
             0.8888888888888888,
             "#fdca26"
            ],
            [
             1,
             "#f0f921"
            ]
           ]
          },
          "colorway": [
           "#636efa",
           "#EF553B",
           "#00cc96",
           "#ab63fa",
           "#FFA15A",
           "#19d3f3",
           "#FF6692",
           "#B6E880",
           "#FF97FF",
           "#FECB52"
          ],
          "font": {
           "color": "#2a3f5f"
          },
          "geo": {
           "bgcolor": "white",
           "lakecolor": "white",
           "landcolor": "#E5ECF6",
           "showlakes": true,
           "showland": true,
           "subunitcolor": "white"
          },
          "hoverlabel": {
           "align": "left"
          },
          "hovermode": "closest",
          "mapbox": {
           "style": "light"
          },
          "paper_bgcolor": "white",
          "plot_bgcolor": "#E5ECF6",
          "polar": {
           "angularaxis": {
            "gridcolor": "white",
            "linecolor": "white",
            "ticks": ""
           },
           "bgcolor": "#E5ECF6",
           "radialaxis": {
            "gridcolor": "white",
            "linecolor": "white",
            "ticks": ""
           }
          },
          "scene": {
           "xaxis": {
            "backgroundcolor": "#E5ECF6",
            "gridcolor": "white",
            "gridwidth": 2,
            "linecolor": "white",
            "showbackground": true,
            "ticks": "",
            "zerolinecolor": "white"
           },
           "yaxis": {
            "backgroundcolor": "#E5ECF6",
            "gridcolor": "white",
            "gridwidth": 2,
            "linecolor": "white",
            "showbackground": true,
            "ticks": "",
            "zerolinecolor": "white"
           },
           "zaxis": {
            "backgroundcolor": "#E5ECF6",
            "gridcolor": "white",
            "gridwidth": 2,
            "linecolor": "white",
            "showbackground": true,
            "ticks": "",
            "zerolinecolor": "white"
           }
          },
          "shapedefaults": {
           "line": {
            "color": "#2a3f5f"
           }
          },
          "ternary": {
           "aaxis": {
            "gridcolor": "white",
            "linecolor": "white",
            "ticks": ""
           },
           "baxis": {
            "gridcolor": "white",
            "linecolor": "white",
            "ticks": ""
           },
           "bgcolor": "#E5ECF6",
           "caxis": {
            "gridcolor": "white",
            "linecolor": "white",
            "ticks": ""
           }
          },
          "title": {
           "x": 0.05
          },
          "xaxis": {
           "automargin": true,
           "gridcolor": "white",
           "linecolor": "white",
           "ticks": "",
           "title": {
            "standoff": 15
           },
           "zerolinecolor": "white",
           "zerolinewidth": 2
          },
          "yaxis": {
           "automargin": true,
           "gridcolor": "white",
           "linecolor": "white",
           "ticks": "",
           "title": {
            "standoff": 15
           },
           "zerolinecolor": "white",
           "zerolinewidth": 2
          }
         }
        },
        "title": {
         "text": "Distribution of Reported Shapes by Country"
        },
        "xaxis": {
         "anchor": "y",
         "domain": [
          0,
          1
         ],
         "title": {
          "text": "year"
         }
        },
        "yaxis": {
         "anchor": "x",
         "domain": [
          0,
          1
         ],
         "title": {
          "text": "Frequency"
         }
        }
       }
      }
     },
     "metadata": {},
     "output_type": "display_data"
    }
   ],
   "source": [
    "#add year column generated from date\n",
    "df_ufo['year'] = df_ufo['date'].dt.year\n",
    "\n",
    "# aggregate by year and country, plus add filter from 1990\n",
    "dfg = df_ufo[df_ufo['year'] >= 1990].groupby(['country', 'year']).size().to_frame().reset_index()\n",
    "dfg.columns = ['country', 'year', 'count']\n",
    "\n",
    "#plot as linechart\n",
    "countryline = px.line(dfg, x ='year', y='count', color='country', title=title, labels = labels)\n",
    "countryline.show()"
   ]
  },
  {
   "cell_type": "markdown",
   "metadata": {},
   "source": [
    "The conclusion we can make is that there large majority of the sightings are coming from the US (thousands per year). Excluding US from the plot, the second-bests are Canada and Australia with annual frequencies in the range of 100 to 300 per annum. The number of reports started to trend upwards after 1995 and been in decline over the recent years."
   ]
  },
  {
   "cell_type": "markdown",
   "metadata": {},
   "source": [
    "### 3. Which states in the US report the most UFO sightings?"
   ]
  },
  {
   "cell_type": "code",
   "execution_count": 57,
   "metadata": {},
   "outputs": [],
   "source": [
    "# filter data to United States\n",
    "df_ufo_us = df_ufo[df_ufo['country'] == 'United States']"
   ]
  },
  {
   "cell_type": "code",
   "execution_count": 58,
   "metadata": {},
   "outputs": [],
   "source": [
    "#group count by states\n",
    "dfg = df_ufo_us.groupby(['state']).size().to_frame().reset_index()\n",
    "dfg.columns = ['state', 'count']"
   ]
  },
  {
   "cell_type": "code",
   "execution_count": 59,
   "metadata": {},
   "outputs": [],
   "source": [
    "#create title and labels\n",
    "title = 'Distribution of Reported Shapes by Country'\n",
    "\n",
    "labels = {'state': 'Country', 'date': 'Date', 'count': 'Frequency'}"
   ]
  },
  {
   "cell_type": "code",
   "execution_count": 60,
   "metadata": {},
   "outputs": [
    {
     "data": {
      "text/plain": [
       "date                    0\n",
       "city                    0\n",
       "state                   0\n",
       "country                 0\n",
       "shape                1736\n",
       "duration_sec            0\n",
       "duration_min_hour       0\n",
       "comments               13\n",
       "date_posted             0\n",
       "lat                     1\n",
       "long                    0\n",
       "year                    0\n",
       "duration_min            0\n",
       "duration_hour           0\n",
       "dtype: int64"
      ]
     },
     "execution_count": 60,
     "metadata": {},
     "output_type": "execute_result"
    }
   ],
   "source": [
    "#check missing values in lat and long columns\n",
    "df_ufo_us.isnull().sum()"
   ]
  },
  {
   "cell_type": "code",
   "execution_count": 61,
   "metadata": {},
   "outputs": [
    {
     "name": "stderr",
     "output_type": "stream",
     "text": [
      "/var/folders/rn/pb4lfv4d48x2_hps66yh6qk80000gn/T/ipykernel_35566/608144335.py:2: SettingWithCopyWarning:\n",
      "\n",
      "\n",
      "A value is trying to be set on a copy of a slice from a DataFrame.\n",
      "Try using .loc[row_indexer,col_indexer] = value instead\n",
      "\n",
      "See the caveats in the documentation: https://pandas.pydata.org/pandas-docs/stable/user_guide/indexing.html#returning-a-view-versus-a-copy\n",
      "\n"
     ]
    }
   ],
   "source": [
    "#uppercase state abbreviations\n",
    "df_ufo_us['state'] = df_ufo_us['state'].str.upper()\n",
    "\n",
    "#calculate all numeric aggreagates for states\n",
    "df_ufo_us_agg = df_ufo.sort_values('date').groupby('state').agg({'state': 'count', 'duration_hour': 'mean', 'shape':  ['first', 'last'], 'date' : ['first', 'last'], 'city': 'first'})\n",
    "\n",
    "#group count by states and count\n",
    "dfg = df_ufo_us.groupby(['state']).size().to_frame().reset_index()\n",
    "dfg.columns = ['state', 'count']"
   ]
  },
  {
   "cell_type": "code",
   "execution_count": 90,
   "metadata": {},
   "outputs": [],
   "source": [
    "#calculate all numeric aggreagates for states\n",
    "df_ufo_us_agg = df_ufo_us.sort_values('date').groupby('state').agg({'state': 'count',\n",
    "                                                                    'duration_hour': 'mean',\n",
    "                                                                    'shape':  ['first', 'last'],\n",
    "                                                                    'year' : ['first', 'last'],\n",
    "                                                                    'city': 'first'}).reset_index()\n",
    "\n",
    "# treat multindex\n",
    "df_ufo_us_agg.columns = df_ufo_us_agg.columns.get_level_values(0)\n",
    "#rename columns\n",
    "df_ufo_us_agg.columns = ['state', 'count', 'duration_hour_mean', 'shape_first', 'shape_last', 'year_first', 'year_last', 'city_first']\n",
    "\n",
    "#capitalize texts\n",
    "df_ufo_us_agg['city_first'] = df_ufo_us_agg['city_first'].str.capitalize()\n",
    "df_ufo_us_agg['shape_first'] = df_ufo_us_agg['shape_first'].str.capitalize()\n",
    "df_ufo_us_agg['shape_last'] = df_ufo_us_agg['shape_last'].str.capitalize()"
   ]
  },
  {
   "cell_type": "code",
   "execution_count": 91,
   "metadata": {},
   "outputs": [
    {
     "data": {
      "text/html": [
       "<div>\n",
       "<style scoped>\n",
       "    .dataframe tbody tr th:only-of-type {\n",
       "        vertical-align: middle;\n",
       "    }\n",
       "\n",
       "    .dataframe tbody tr th {\n",
       "        vertical-align: top;\n",
       "    }\n",
       "\n",
       "    .dataframe thead th {\n",
       "        text-align: right;\n",
       "    }\n",
       "</style>\n",
       "<table border=\"1\" class=\"dataframe\">\n",
       "  <thead>\n",
       "    <tr style=\"text-align: right;\">\n",
       "      <th></th>\n",
       "      <th>state</th>\n",
       "      <th>count</th>\n",
       "      <th>duration_hour_mean</th>\n",
       "      <th>shape_first</th>\n",
       "      <th>shape_last</th>\n",
       "      <th>year_first</th>\n",
       "      <th>year_last</th>\n",
       "      <th>city_first</th>\n",
       "    </tr>\n",
       "  </thead>\n",
       "  <tbody>\n",
       "    <tr>\n",
       "      <th>0</th>\n",
       "      <td>AB</td>\n",
       "      <td>45</td>\n",
       "      <td>0.354920</td>\n",
       "      <td>Circle</td>\n",
       "      <td>Oval</td>\n",
       "      <td>1956</td>\n",
       "      <td>2014</td>\n",
       "      <td>Edmondton (canada)</td>\n",
       "    </tr>\n",
       "    <tr>\n",
       "      <th>1</th>\n",
       "      <td>AK</td>\n",
       "      <td>352</td>\n",
       "      <td>0.364006</td>\n",
       "      <td>Cigar</td>\n",
       "      <td>Flash</td>\n",
       "      <td>1936</td>\n",
       "      <td>2014</td>\n",
       "      <td>Eklutna</td>\n",
       "    </tr>\n",
       "    <tr>\n",
       "      <th>2</th>\n",
       "      <td>AL</td>\n",
       "      <td>688</td>\n",
       "      <td>0.274284</td>\n",
       "      <td>Fireball</td>\n",
       "      <td>Circle</td>\n",
       "      <td>1939</td>\n",
       "      <td>2014</td>\n",
       "      <td>Waterloo</td>\n",
       "    </tr>\n",
       "    <tr>\n",
       "      <th>3</th>\n",
       "      <td>AR</td>\n",
       "      <td>664</td>\n",
       "      <td>0.304850</td>\n",
       "      <td>Disk</td>\n",
       "      <td>Light</td>\n",
       "      <td>1950</td>\n",
       "      <td>2014</td>\n",
       "      <td>Arkansas (eastern; on us hwy 70 abt 75 m w/o m...</td>\n",
       "    </tr>\n",
       "    <tr>\n",
       "      <th>4</th>\n",
       "      <td>AZ</td>\n",
       "      <td>2680</td>\n",
       "      <td>0.329139</td>\n",
       "      <td>Flash</td>\n",
       "      <td>Light</td>\n",
       "      <td>1946</td>\n",
       "      <td>2014</td>\n",
       "      <td>Dome</td>\n",
       "    </tr>\n",
       "  </tbody>\n",
       "</table>\n",
       "</div>"
      ],
      "text/plain": [
       "  state  count  duration_hour_mean shape_first shape_last  year_first  \\\n",
       "0    AB     45            0.354920      Circle       Oval        1956   \n",
       "1    AK    352            0.364006       Cigar      Flash        1936   \n",
       "2    AL    688            0.274284    Fireball     Circle        1939   \n",
       "3    AR    664            0.304850        Disk      Light        1950   \n",
       "4    AZ   2680            0.329139       Flash      Light        1946   \n",
       "\n",
       "   year_last                                         city_first  \n",
       "0       2014                                 Edmondton (canada)  \n",
       "1       2014                                            Eklutna  \n",
       "2       2014                                           Waterloo  \n",
       "3       2014  Arkansas (eastern; on us hwy 70 abt 75 m w/o m...  \n",
       "4       2014                                               Dome  "
      ]
     },
     "execution_count": 91,
     "metadata": {},
     "output_type": "execute_result"
    }
   ],
   "source": [
    "df_ufo_us_agg.head()"
   ]
  },
  {
   "cell_type": "code",
   "execution_count": 92,
   "metadata": {},
   "outputs": [
    {
     "data": {
      "application/vnd.plotly.v1+json": {
       "config": {
        "plotlyServerURL": "https://plot.ly"
       },
       "data": [
        {
         "autocolorscale": false,
         "colorbar": {
          "title": {
           "text": "Sightings"
          }
         },
         "colorscale": [
          [
           0,
           "rgb(255,245,240)"
          ],
          [
           0.125,
           "rgb(254,224,210)"
          ],
          [
           0.25,
           "rgb(252,187,161)"
          ],
          [
           0.375,
           "rgb(252,146,114)"
          ],
          [
           0.5,
           "rgb(251,106,74)"
          ],
          [
           0.625,
           "rgb(239,59,44)"
          ],
          [
           0.75,
           "rgb(203,24,29)"
          ],
          [
           0.875,
           "rgb(165,15,21)"
          ],
          [
           1,
           "rgb(103,0,13)"
          ]
         ],
         "locationmode": "USA-states",
         "locations": [
          "AB",
          "AK",
          "AL",
          "AR",
          "AZ",
          "BC",
          "CA",
          "CO",
          "CT",
          "DC",
          "DE",
          "FL",
          "GA",
          "HI",
          "IA",
          "ID",
          "IL",
          "IN",
          "KS",
          "KY",
          "LA",
          "MA",
          "MB",
          "MD",
          "ME",
          "MI",
          "MN",
          "MO",
          "MS",
          "MT",
          "NB",
          "NC",
          "ND",
          "NE",
          "NF",
          "NH",
          "NJ",
          "NM",
          "NS",
          "NT",
          "NV",
          "NY",
          "OH",
          "OK",
          "ON",
          "OR",
          "PA",
          "PE",
          "PQ",
          "PR",
          "QC",
          "RI",
          "SA",
          "SC",
          "SD",
          "SK",
          "TN",
          "TX",
          "UT",
          "VA",
          "VT",
          "WA",
          "WI",
          "WV",
          "WY",
          "YK",
          "YT"
         ],
         "marker": {
          "line": {
           "color": "white"
          }
         },
         "text": [
          "First shape: Circle<br>Last shape: Oval<br>First report: 1956<br>Last report: 2014<br>First city: Edmondton (canada)",
          "First shape: Cigar<br>Last shape: Flash<br>First report: 1936<br>Last report: 2014<br>First city: Eklutna",
          "First shape: Fireball<br>Last shape: Circle<br>First report: 1939<br>Last report: 2014<br>First city: Waterloo",
          "First shape: Disk<br>Last shape: Light<br>First report: 1950<br>Last report: 2014<br>First city: Arkansas (eastern; on us hwy 70 abt 75 m w/o memphis&#44 tn)",
          "First shape: Flash<br>Last shape: Light<br>First report: 1946<br>Last report: 2014<br>First city: Dome",
          "First shape: Disk<br>Last shape: Circle<br>First report: 1944<br>Last report: 2014<br>First city: Saanich (canada)",
          "First shape: Light<br>Last shape: Fireball<br>First report: 1937<br>Last report: 2014<br>First city: Fontana",
          "First shape: Oval<br>Last shape: Other<br>First report: 1931<br>Last report: 2014<br>First city: Holyoke (6-8 miles southwest of)",
          "First shape: Disk<br>Last shape: Unknown<br>First report: 1951<br>Last report: 2014<br>First city: Thompsonville",
          "First shape: Light<br>Last shape: Formation<br>First report: 1953<br>Last report: 2014<br>First city: Washington&#44 d.c.",
          "First shape: Disk<br>Last shape: Circle<br>First report: 1954<br>Last report: 2014<br>First city: Claymont",
          "First shape: Cylinder<br>Last shape: Fireball<br>First report: 1944<br>Last report: 2014<br>First city: North tampa",
          "First shape: Unknown<br>Last shape: Circle<br>First report: 1942<br>Last report: 2014<br>First city: Hapeville",
          "First shape: Light<br>Last shape: Changing<br>First report: 1960<br>Last report: 2014<br>First city: Kaneohe",
          "First shape: Oval<br>Last shape: Light<br>First report: 1939<br>Last report: 2014<br>First city: Keokuk",
          "First shape: Disk<br>Last shape: Circle<br>First report: 1947<br>Last report: 2014<br>First city: Hazelton (northeast of)",
          "First shape: Disk<br>Last shape: Formation<br>First report: 1925<br>Last report: 2014<br>First city: Atkinson (6 miles north of)",
          "First shape: Unknown<br>Last shape: Cross<br>First report: 1920<br>Last report: 2014<br>First city: Cicero",
          "First shape: Disk<br>Last shape: Unknown<br>First report: 1931<br>Last report: 2014<br>First city: Abilene",
          "First shape: Rectangle<br>Last shape: Triangle<br>First report: 1943<br>Last report: 2014<br>First city: Owensboro",
          "First shape: Unknown<br>Last shape: Other<br>First report: 1943<br>Last report: 2014<br>First city: Unknown",
          "First shape: Chevron<br>Last shape: Rectangle<br>First report: 1953<br>Last report: 2014<br>First city: Haverhill",
          "First shape: Oval<br>Last shape: Other<br>First report: 1962<br>Last report: 2014<br>First city: Hudgson (canada)",
          "First shape: Oval<br>Last shape: Disk<br>First report: 1947<br>Last report: 2014<br>First city: Baltimore",
          "First shape: Oval<br>Last shape: Other<br>First report: 1946<br>Last report: 2014<br>First city: South portland",
          "First shape: Disk<br>Last shape: Fireball<br>First report: 1941<br>Last report: 2014<br>First city: Ludington (hamlin lake)",
          "First shape: Disk<br>Last shape: Oval<br>First report: 1947<br>Last report: 2014<br>First city: Winona (aprox.20 mi.north west of)",
          "First shape: Disk<br>Last shape: Fireball<br>First report: 1910<br>Last report: 2014<br>First city: Kirksville (near)",
          "First shape: Unknown<br>Last shape: Light<br>First report: 1949<br>Last report: 2014<br>First city: Booneville",
          "First shape: Disk<br>Last shape: Sphere<br>First report: 1953<br>Last report: 2014<br>First city: Unknown",
          "First shape: Rectangle<br>Last shape: Disk<br>First report: 1948<br>Last report: 2014<br>First city: Napan (canada)",
          "First shape: Disk<br>Last shape: Triangle<br>First report: 1945<br>Last report: 2014<br>First city: Winston-salem",
          "First shape: Disk<br>Last shape: Light<br>First report: 1934<br>Last report: 2014<br>First city: Valley city (6.5 miles east of)",
          "First shape: Disk<br>Last shape: Circle<br>First report: 1943<br>Last report: 2013<br>First city: Nebraska",
          "First shape: Light<br>Last shape: Light<br>First report: 1977<br>Last report: 2013<br>First city: Placentia jct. (canada)",
          "First shape: Rectangle<br>Last shape: Oval<br>First report: 1956<br>Last report: 2014<br>First city: Newport",
          "First shape: Sphere<br>Last shape: Light<br>First report: 1950<br>Last report: 2014<br>First city: Newark",
          "First shape: Disk<br>Last shape: Unknown<br>First report: 1944<br>Last report: 2014<br>First city: Clovis",
          "First shape: Oval<br>Last shape: Unknown<br>First report: 1993<br>Last report: 2014<br>First city: Brentwood short&#39s lake (canada)",
          "First shape: Unknown<br>Last shape: Fireball<br>First report: 1991<br>Last report: 2006<br>First city: Ft. resolution (near) (nwt) canada)",
          "First shape: Disk<br>Last shape: Fireball<br>First report: 1947<br>Last report: 2014<br>First city: Las vegas (east of)",
          "First shape: Triangle<br>Last shape: Circle<br>First report: 1930<br>Last report: 2014<br>First city: Ithaca/freeville",
          "First shape: Light<br>Last shape: Sphere<br>First report: 1947<br>Last report: 2014<br>First city: Cleveland",
          "First shape: Cigar<br>Last shape: Triangle<br>First report: 1947<br>Last report: 2014<br>First city: Proctor",
          "First shape: Oval<br>Last shape: Other<br>First report: 1964<br>Last report: 2014<br>First city: Rodolph (canada)",
          "First shape: Disk<br>Last shape: Circle<br>First report: 1929<br>Last report: 2014<br>First city: Buchanan  (or burns)",
          "First shape: Unknown<br>Last shape: Disk<br>First report: 1947<br>Last report: 2014<br>First city: Oakmont",
          "First shape: Oval<br>Last shape: Fireball<br>First report: 1999<br>Last report: 2010<br>First city: Brackley beach (canada)",
          "First shape: Cigar<br>Last shape: Fireball<br>First report: 1981<br>Last report: 2003<br>First city: Neufchatel (canada)",
          "First shape: Circle<br>Last shape: Diamond<br>First report: 1954<br>Last report: 2004<br>First city: Ramey air force base (puerto rico)",
          "First shape: Disk<br>Last shape: Unknown<br>First report: 1967<br>Last report: 2014<br>First city: Lake magog (canada)",
          "First shape: Sphere<br>Last shape: Cigar<br>First report: 1944<br>Last report: 2014<br>First city: South kingstown",
          "First shape: Other<br>Last shape: Other<br>First report: 1999<br>Last report: 1999<br>First city: Fort qu&#39appelle (canada)",
          "First shape: Sphere<br>Last shape: Oval<br>First report: 1939<br>Last report: 2014<br>First city: Belton",
          "First shape: Circle<br>Last shape: Circle<br>First report: 1956<br>Last report: 2014<br>First city: Aberdeen",
          "First shape: Circle<br>Last shape: Circle<br>First report: 1996<br>Last report: 2013<br>First city: Central butte (canada)",
          "First shape: Rectangle<br>Last shape: Rectangle<br>First report: 1942<br>Last report: 2014<br>First city: Oneida",
          "First shape: Cigar<br>Last shape: Fireball<br>First report: 1910<br>Last report: 2014<br>First city: Wills point",
          "First shape: Disk<br>Last shape: Sphere<br>First report: 1944<br>Last report: 2014<br>First city: Ft. duschene (near)",
          "First shape: Formation<br>Last shape: Light<br>First report: 1945<br>Last report: 2014<br>First city: Portsmouth",
          "First shape: Oval<br>Last shape: Cylinder<br>First report: 1958<br>Last report: 2014<br>First city: Winooski",
          "First shape: Fireball<br>Last shape: Light<br>First report: 1946<br>Last report: 2014<br>First city: Index",
          "First shape: Disk<br>Last shape: Other<br>First report: 1947<br>Last report: 2014<br>First city: Madison",
          "First shape: Other<br>Last shape: Light<br>First report: 1949<br>Last report: 2014<br>First city: Oak ridge (drive)",
          "First shape: Sphere<br>Last shape: Circle<br>First report: 1951<br>Last report: 2014<br>First city: Green river",
          "First shape: Circle<br>Last shape: Unknown<br>First report: 2000<br>Last report: 2002<br>First city: Yukon (canada)",
          "First shape: Circle<br>Last shape: Sphere<br>First report: 1993<br>Last report: 2014<br>First city: Yukon territory (canada)"
         ],
         "type": "choropleth",
         "z": [
          "45",
          "352",
          "688",
          "664",
          "2680",
          "96",
          "9626",
          "1502",
          "965",
          "98",
          "183",
          "4196",
          "1343",
          "351",
          "707",
          "554",
          "2644",
          "1382",
          "650",
          "912",
          "596",
          "1356",
          "28",
          "911",
          "631",
          "2068",
          "1080",
          "1574",
          "411",
          "508",
          "30",
          "1866",
          "138",
          "405",
          "10",
          "534",
          "1506",
          "812",
          "40",
          "4",
          "903",
          "3216",
          "2417",
          "764",
          "229",
          "1843",
          "2576",
          "7",
          "26",
          "33",
          "54",
          "288",
          "1",
          "1075",
          "195",
          "19",
          "1190",
          "3670",
          "741",
          "1391",
          "306",
          "4259",
          "1331",
          "484",
          "205",
          "5",
          "6"
         ]
        }
       ],
       "layout": {
        "geo": {
         "scope": "usa"
        },
        "template": {
         "data": {
          "bar": [
           {
            "error_x": {
             "color": "#2a3f5f"
            },
            "error_y": {
             "color": "#2a3f5f"
            },
            "marker": {
             "line": {
              "color": "#E5ECF6",
              "width": 0.5
             },
             "pattern": {
              "fillmode": "overlay",
              "size": 10,
              "solidity": 0.2
             }
            },
            "type": "bar"
           }
          ],
          "barpolar": [
           {
            "marker": {
             "line": {
              "color": "#E5ECF6",
              "width": 0.5
             },
             "pattern": {
              "fillmode": "overlay",
              "size": 10,
              "solidity": 0.2
             }
            },
            "type": "barpolar"
           }
          ],
          "carpet": [
           {
            "aaxis": {
             "endlinecolor": "#2a3f5f",
             "gridcolor": "white",
             "linecolor": "white",
             "minorgridcolor": "white",
             "startlinecolor": "#2a3f5f"
            },
            "baxis": {
             "endlinecolor": "#2a3f5f",
             "gridcolor": "white",
             "linecolor": "white",
             "minorgridcolor": "white",
             "startlinecolor": "#2a3f5f"
            },
            "type": "carpet"
           }
          ],
          "choropleth": [
           {
            "colorbar": {
             "outlinewidth": 0,
             "ticks": ""
            },
            "type": "choropleth"
           }
          ],
          "contour": [
           {
            "colorbar": {
             "outlinewidth": 0,
             "ticks": ""
            },
            "colorscale": [
             [
              0,
              "#0d0887"
             ],
             [
              0.1111111111111111,
              "#46039f"
             ],
             [
              0.2222222222222222,
              "#7201a8"
             ],
             [
              0.3333333333333333,
              "#9c179e"
             ],
             [
              0.4444444444444444,
              "#bd3786"
             ],
             [
              0.5555555555555556,
              "#d8576b"
             ],
             [
              0.6666666666666666,
              "#ed7953"
             ],
             [
              0.7777777777777778,
              "#fb9f3a"
             ],
             [
              0.8888888888888888,
              "#fdca26"
             ],
             [
              1,
              "#f0f921"
             ]
            ],
            "type": "contour"
           }
          ],
          "contourcarpet": [
           {
            "colorbar": {
             "outlinewidth": 0,
             "ticks": ""
            },
            "type": "contourcarpet"
           }
          ],
          "heatmap": [
           {
            "colorbar": {
             "outlinewidth": 0,
             "ticks": ""
            },
            "colorscale": [
             [
              0,
              "#0d0887"
             ],
             [
              0.1111111111111111,
              "#46039f"
             ],
             [
              0.2222222222222222,
              "#7201a8"
             ],
             [
              0.3333333333333333,
              "#9c179e"
             ],
             [
              0.4444444444444444,
              "#bd3786"
             ],
             [
              0.5555555555555556,
              "#d8576b"
             ],
             [
              0.6666666666666666,
              "#ed7953"
             ],
             [
              0.7777777777777778,
              "#fb9f3a"
             ],
             [
              0.8888888888888888,
              "#fdca26"
             ],
             [
              1,
              "#f0f921"
             ]
            ],
            "type": "heatmap"
           }
          ],
          "heatmapgl": [
           {
            "colorbar": {
             "outlinewidth": 0,
             "ticks": ""
            },
            "colorscale": [
             [
              0,
              "#0d0887"
             ],
             [
              0.1111111111111111,
              "#46039f"
             ],
             [
              0.2222222222222222,
              "#7201a8"
             ],
             [
              0.3333333333333333,
              "#9c179e"
             ],
             [
              0.4444444444444444,
              "#bd3786"
             ],
             [
              0.5555555555555556,
              "#d8576b"
             ],
             [
              0.6666666666666666,
              "#ed7953"
             ],
             [
              0.7777777777777778,
              "#fb9f3a"
             ],
             [
              0.8888888888888888,
              "#fdca26"
             ],
             [
              1,
              "#f0f921"
             ]
            ],
            "type": "heatmapgl"
           }
          ],
          "histogram": [
           {
            "marker": {
             "pattern": {
              "fillmode": "overlay",
              "size": 10,
              "solidity": 0.2
             }
            },
            "type": "histogram"
           }
          ],
          "histogram2d": [
           {
            "colorbar": {
             "outlinewidth": 0,
             "ticks": ""
            },
            "colorscale": [
             [
              0,
              "#0d0887"
             ],
             [
              0.1111111111111111,
              "#46039f"
             ],
             [
              0.2222222222222222,
              "#7201a8"
             ],
             [
              0.3333333333333333,
              "#9c179e"
             ],
             [
              0.4444444444444444,
              "#bd3786"
             ],
             [
              0.5555555555555556,
              "#d8576b"
             ],
             [
              0.6666666666666666,
              "#ed7953"
             ],
             [
              0.7777777777777778,
              "#fb9f3a"
             ],
             [
              0.8888888888888888,
              "#fdca26"
             ],
             [
              1,
              "#f0f921"
             ]
            ],
            "type": "histogram2d"
           }
          ],
          "histogram2dcontour": [
           {
            "colorbar": {
             "outlinewidth": 0,
             "ticks": ""
            },
            "colorscale": [
             [
              0,
              "#0d0887"
             ],
             [
              0.1111111111111111,
              "#46039f"
             ],
             [
              0.2222222222222222,
              "#7201a8"
             ],
             [
              0.3333333333333333,
              "#9c179e"
             ],
             [
              0.4444444444444444,
              "#bd3786"
             ],
             [
              0.5555555555555556,
              "#d8576b"
             ],
             [
              0.6666666666666666,
              "#ed7953"
             ],
             [
              0.7777777777777778,
              "#fb9f3a"
             ],
             [
              0.8888888888888888,
              "#fdca26"
             ],
             [
              1,
              "#f0f921"
             ]
            ],
            "type": "histogram2dcontour"
           }
          ],
          "mesh3d": [
           {
            "colorbar": {
             "outlinewidth": 0,
             "ticks": ""
            },
            "type": "mesh3d"
           }
          ],
          "parcoords": [
           {
            "line": {
             "colorbar": {
              "outlinewidth": 0,
              "ticks": ""
             }
            },
            "type": "parcoords"
           }
          ],
          "pie": [
           {
            "automargin": true,
            "type": "pie"
           }
          ],
          "scatter": [
           {
            "fillpattern": {
             "fillmode": "overlay",
             "size": 10,
             "solidity": 0.2
            },
            "type": "scatter"
           }
          ],
          "scatter3d": [
           {
            "line": {
             "colorbar": {
              "outlinewidth": 0,
              "ticks": ""
             }
            },
            "marker": {
             "colorbar": {
              "outlinewidth": 0,
              "ticks": ""
             }
            },
            "type": "scatter3d"
           }
          ],
          "scattercarpet": [
           {
            "marker": {
             "colorbar": {
              "outlinewidth": 0,
              "ticks": ""
             }
            },
            "type": "scattercarpet"
           }
          ],
          "scattergeo": [
           {
            "marker": {
             "colorbar": {
              "outlinewidth": 0,
              "ticks": ""
             }
            },
            "type": "scattergeo"
           }
          ],
          "scattergl": [
           {
            "marker": {
             "colorbar": {
              "outlinewidth": 0,
              "ticks": ""
             }
            },
            "type": "scattergl"
           }
          ],
          "scattermapbox": [
           {
            "marker": {
             "colorbar": {
              "outlinewidth": 0,
              "ticks": ""
             }
            },
            "type": "scattermapbox"
           }
          ],
          "scatterpolar": [
           {
            "marker": {
             "colorbar": {
              "outlinewidth": 0,
              "ticks": ""
             }
            },
            "type": "scatterpolar"
           }
          ],
          "scatterpolargl": [
           {
            "marker": {
             "colorbar": {
              "outlinewidth": 0,
              "ticks": ""
             }
            },
            "type": "scatterpolargl"
           }
          ],
          "scatterternary": [
           {
            "marker": {
             "colorbar": {
              "outlinewidth": 0,
              "ticks": ""
             }
            },
            "type": "scatterternary"
           }
          ],
          "surface": [
           {
            "colorbar": {
             "outlinewidth": 0,
             "ticks": ""
            },
            "colorscale": [
             [
              0,
              "#0d0887"
             ],
             [
              0.1111111111111111,
              "#46039f"
             ],
             [
              0.2222222222222222,
              "#7201a8"
             ],
             [
              0.3333333333333333,
              "#9c179e"
             ],
             [
              0.4444444444444444,
              "#bd3786"
             ],
             [
              0.5555555555555556,
              "#d8576b"
             ],
             [
              0.6666666666666666,
              "#ed7953"
             ],
             [
              0.7777777777777778,
              "#fb9f3a"
             ],
             [
              0.8888888888888888,
              "#fdca26"
             ],
             [
              1,
              "#f0f921"
             ]
            ],
            "type": "surface"
           }
          ],
          "table": [
           {
            "cells": {
             "fill": {
              "color": "#EBF0F8"
             },
             "line": {
              "color": "white"
             }
            },
            "header": {
             "fill": {
              "color": "#C8D4E3"
             },
             "line": {
              "color": "white"
             }
            },
            "type": "table"
           }
          ]
         },
         "layout": {
          "annotationdefaults": {
           "arrowcolor": "#2a3f5f",
           "arrowhead": 0,
           "arrowwidth": 1
          },
          "autotypenumbers": "strict",
          "coloraxis": {
           "colorbar": {
            "outlinewidth": 0,
            "ticks": ""
           }
          },
          "colorscale": {
           "diverging": [
            [
             0,
             "#8e0152"
            ],
            [
             0.1,
             "#c51b7d"
            ],
            [
             0.2,
             "#de77ae"
            ],
            [
             0.3,
             "#f1b6da"
            ],
            [
             0.4,
             "#fde0ef"
            ],
            [
             0.5,
             "#f7f7f7"
            ],
            [
             0.6,
             "#e6f5d0"
            ],
            [
             0.7,
             "#b8e186"
            ],
            [
             0.8,
             "#7fbc41"
            ],
            [
             0.9,
             "#4d9221"
            ],
            [
             1,
             "#276419"
            ]
           ],
           "sequential": [
            [
             0,
             "#0d0887"
            ],
            [
             0.1111111111111111,
             "#46039f"
            ],
            [
             0.2222222222222222,
             "#7201a8"
            ],
            [
             0.3333333333333333,
             "#9c179e"
            ],
            [
             0.4444444444444444,
             "#bd3786"
            ],
            [
             0.5555555555555556,
             "#d8576b"
            ],
            [
             0.6666666666666666,
             "#ed7953"
            ],
            [
             0.7777777777777778,
             "#fb9f3a"
            ],
            [
             0.8888888888888888,
             "#fdca26"
            ],
            [
             1,
             "#f0f921"
            ]
           ],
           "sequentialminus": [
            [
             0,
             "#0d0887"
            ],
            [
             0.1111111111111111,
             "#46039f"
            ],
            [
             0.2222222222222222,
             "#7201a8"
            ],
            [
             0.3333333333333333,
             "#9c179e"
            ],
            [
             0.4444444444444444,
             "#bd3786"
            ],
            [
             0.5555555555555556,
             "#d8576b"
            ],
            [
             0.6666666666666666,
             "#ed7953"
            ],
            [
             0.7777777777777778,
             "#fb9f3a"
            ],
            [
             0.8888888888888888,
             "#fdca26"
            ],
            [
             1,
             "#f0f921"
            ]
           ]
          },
          "colorway": [
           "#636efa",
           "#EF553B",
           "#00cc96",
           "#ab63fa",
           "#FFA15A",
           "#19d3f3",
           "#FF6692",
           "#B6E880",
           "#FF97FF",
           "#FECB52"
          ],
          "font": {
           "color": "#2a3f5f"
          },
          "geo": {
           "bgcolor": "white",
           "lakecolor": "white",
           "landcolor": "#E5ECF6",
           "showlakes": true,
           "showland": true,
           "subunitcolor": "white"
          },
          "hoverlabel": {
           "align": "left"
          },
          "hovermode": "closest",
          "mapbox": {
           "style": "light"
          },
          "paper_bgcolor": "white",
          "plot_bgcolor": "#E5ECF6",
          "polar": {
           "angularaxis": {
            "gridcolor": "white",
            "linecolor": "white",
            "ticks": ""
           },
           "bgcolor": "#E5ECF6",
           "radialaxis": {
            "gridcolor": "white",
            "linecolor": "white",
            "ticks": ""
           }
          },
          "scene": {
           "xaxis": {
            "backgroundcolor": "#E5ECF6",
            "gridcolor": "white",
            "gridwidth": 2,
            "linecolor": "white",
            "showbackground": true,
            "ticks": "",
            "zerolinecolor": "white"
           },
           "yaxis": {
            "backgroundcolor": "#E5ECF6",
            "gridcolor": "white",
            "gridwidth": 2,
            "linecolor": "white",
            "showbackground": true,
            "ticks": "",
            "zerolinecolor": "white"
           },
           "zaxis": {
            "backgroundcolor": "#E5ECF6",
            "gridcolor": "white",
            "gridwidth": 2,
            "linecolor": "white",
            "showbackground": true,
            "ticks": "",
            "zerolinecolor": "white"
           }
          },
          "shapedefaults": {
           "line": {
            "color": "#2a3f5f"
           }
          },
          "ternary": {
           "aaxis": {
            "gridcolor": "white",
            "linecolor": "white",
            "ticks": ""
           },
           "baxis": {
            "gridcolor": "white",
            "linecolor": "white",
            "ticks": ""
           },
           "bgcolor": "#E5ECF6",
           "caxis": {
            "gridcolor": "white",
            "linecolor": "white",
            "ticks": ""
           }
          },
          "title": {
           "x": 0.05
          },
          "xaxis": {
           "automargin": true,
           "gridcolor": "white",
           "linecolor": "white",
           "ticks": "",
           "title": {
            "standoff": 15
           },
           "zerolinecolor": "white",
           "zerolinewidth": 2
          },
          "yaxis": {
           "automargin": true,
           "gridcolor": "white",
           "linecolor": "white",
           "ticks": "",
           "title": {
            "standoff": 15
           },
           "zerolinecolor": "white",
           "zerolinewidth": 2
          }
         }
        },
        "title": {
         "text": "Distribution of Reported Sighting by State"
        }
       }
      }
     },
     "metadata": {},
     "output_type": "display_data"
    }
   ],
   "source": [
    "#use plottly graph object to plot US state map\n",
    "\n",
    "#customize hover over with state aggregates\n",
    "for col in df_ufo_us_agg.columns:\n",
    "    df_ufo_us_agg[col] = df_ufo_us_agg[col].astype(str)\n",
    "\n",
    "df_ufo_us_agg['text'] = 'First shape: ' + df_ufo_us_agg['shape_first'] + '<br>' + 'Last shape: ' + df_ufo_us_agg['shape_last'] + '<br>' + \\\n",
    "    'First report: ' + df_ufo_us_agg['year_first'] + '<br>' + 'Last report: ' + df_ufo_us_agg['year_last'] + '<br>' + \\\n",
    "    'First city: ' + df_ufo_us_agg['city_first']\n",
    "\n",
    "us_states = go.Figure(data=go.Choropleth(\n",
    "    locations=dfg['state'], # Spatial coordinates\n",
    "    z = df_ufo_us_agg['count'], # Data to be color-coded\n",
    "    locationmode = 'USA-states', # set of locations match entries in `locations`\n",
    "    colorscale = 'Reds',\n",
    "    autocolorscale=False,\n",
    "    text=df_ufo_us_agg['text'], # hover text\n",
    "    marker_line_color='white', # line markers between states\n",
    "    colorbar_title = \"Sightings\",\n",
    "))\n",
    "\n",
    "us_states.update_layout(\n",
    "    title_text = 'Distribution of Reported Sighting by State',\n",
    "    geo_scope='usa', # limit map scope to USA\n",
    ")\n",
    "\n",
    "us_states.show()"
   ]
  },
  {
   "cell_type": "markdown",
   "metadata": {},
   "source": [
    "4. Create a histogram to understand the distribution of the duration of UFO sightings."
   ]
  },
  {
   "cell_type": "code",
   "execution_count": null,
   "metadata": {},
   "outputs": [],
   "source": [
    "df_ufo.head()"
   ]
  },
  {
   "cell_type": "code",
   "execution_count": null,
   "metadata": {},
   "outputs": [],
   "source": [
    "df_ufo['duration_hour'].describe()"
   ]
  },
  {
   "cell_type": "code",
   "execution_count": null,
   "metadata": {},
   "outputs": [],
   "source": [
    "#binning of duration in hours\n",
    "bins = np.arange(0, 25, 2)\n",
    "labels = ['0-2', '2-4', '4-6', '6-8', '8-10', '10-12', '12-14', '14-16', '16-18', '18-20', '20-22', '22-24']\n",
    "df_ufo['duration_hour_bin'] = pd.cut(df_ufo['duration_hour'], bins=bins, labels=labels).astype('string')"
   ]
  },
  {
   "cell_type": "code",
   "execution_count": null,
   "metadata": {},
   "outputs": [],
   "source": [
    "df_ufo.info()"
   ]
  },
  {
   "cell_type": "code",
   "execution_count": null,
   "metadata": {},
   "outputs": [],
   "source": [
    "#distribution of sightings by country\n",
    "title = 'Distribution of Reported Sighting Durations by Country'\n",
    "\n",
    "labels = {'country': 'Country', 'duration_hour_bin': 'Duration (hour)'}"
   ]
  },
  {
   "cell_type": "code",
   "execution_count": null,
   "metadata": {},
   "outputs": [],
   "source": [
    "#count frequncy by duration hour bin\n",
    "dfg = df_ufo.groupby(['duration_hour_bin']).size().to_frame().reset_index()\n",
    "dfg.columns = ['duration_hour_bin', 'count']"
   ]
  },
  {
   "cell_type": "markdown",
   "metadata": {},
   "source": [
    "The duration of sightings is dominated by reported hours less than 2 hours"
   ]
  },
  {
   "cell_type": "code",
   "execution_count": null,
   "metadata": {},
   "outputs": [],
   "source": [
    "durationbar = px.bar(dfg, x ='duration_hour_bin', y='count',\n",
    "                    title = title, labels = labels\n",
    "                    )\n",
    "\n",
    "durationbar.update_xaxes(categoryorder='array', categoryarray= ['0 to 2', '2 to 4', '4 to 6', '6 to 8', '8 to 10', '10 to 12', '12 to 14', '14 to 16', '16 to 18', '18 to 20', '20 to 22', '22 to 24'])\n",
    "durationbar.show()"
   ]
  },
  {
   "cell_type": "code",
   "execution_count": null,
   "metadata": {},
   "outputs": [],
   "source": [
    "# collect average durations per shape\n",
    "df_ufo_shape_duration = df_ufo.groupby(['shape'])['duration_min'].mean().reset_index()"
   ]
  },
  {
   "cell_type": "code",
   "execution_count": null,
   "metadata": {},
   "outputs": [],
   "source": [
    "#horizontal braplot for average durations per shape\n",
    "title = 'Average Duration (min) of Reported Sightings by Shape'\n",
    "labels = {'shape': 'Shape', 'duration_min': 'Duration (min)'}"
   ]
  },
  {
   "cell_type": "code",
   "execution_count": null,
   "metadata": {},
   "outputs": [],
   "source": [
    "shapeduration = px.bar(df_ufo_shape_duration, x='shape', y='duration_min', title=title, labels=labels).update_xaxes(categoryorder='total ascending')\n",
    "\n",
    "shapeduration.show()"
   ]
  },
  {
   "cell_type": "markdown",
   "metadata": {},
   "source": [
    "## Dash"
   ]
  },
  {
   "cell_type": "markdown",
   "metadata": {},
   "source": [
    "Setup layout"
   ]
  },
  {
   "cell_type": "code",
   "execution_count": null,
   "metadata": {},
   "outputs": [],
   "source": [
    "# create the Dash app object\n",
    "app = JupyterDash(__name__)"
   ]
  },
  {
   "cell_type": "code",
   "execution_count": null,
   "metadata": {},
   "outputs": [],
   "source": [
    "# displaying the charts side-by-side\n",
    "years= df_ufo.year.unique()\n",
    "countries= df_ufo.country.unique()\n",
    "\n",
    "# we need a style to use the CSS inline display mode and optionally setting a width\n",
    "style2={'display': 'inline-block', 'width': '49%'}\n",
    "\n",
    "# Put the grapsh within a div and assign the style\n",
    "app = JupyterDash(__name__)\n",
    "app.layout = html.Div(\n",
    "[\n",
    "    html.H1(\"UFO Sightings 🛸\"),\n",
    "    html.Div(\"Dashboard of UFO sightings between 1949 and 2014\") , \n",
    "    dcc.RadioItems(id= 'country1', options=countries, value=countries[0]),\n",
    "    dcc.RadioItems(id= 'year1', options=years, value=years[0]),\n",
    "    html.Div(dcc.Graph(id='countrytrend'), style= style2), \n",
    "    html.Div(dcc.Graph(id='shapes'), style= style2),\n",
    "    html.Div(dcc.Graph(id='usmap'), style= style2)\n",
    " ]\n",
    ")\n",
    "\n",
    "# Callback with a single input parameter, returning the same figure twice\n",
    "@app.callback(\n",
    "    Output('countrytrend', 'figure'),\n",
    "    Output('shapes', 'figure'),\n",
    "    Output('usmap', 'figure'),\n",
    "    Input('country1', 'value'),\n",
    "    Input('year1', 'value')\n",
    ")\n",
    "def update1( _input1, _input2 ):\n",
    "    # first figure \n",
    "    df1= df_ufo.query('year==@_input1 and country == @_input2')\n",
    "    fig1= px.scatter(df1, x='total_bill', y=\"tip\", color='sex')\n",
    "    fig1.update_layout(title= \"Showing values for Lunch on \" +  _input1)\n",
    "\n",
    "    # second figure  \n",
    "    df2= df_ufo.query('year==@_input1 and country == @_input2')\n",
    "    fig2= px.scatter(df2, x='total_bill', y=\"tip\", color='sex')\n",
    "    fig2.update_layout(title= \"Showing values for Dinner on \" +  _input1 + _input2)\n",
    "\n",
    "    # third figure  \n",
    "    df3= df_ufo.query(''year==@_input1 and country == @_input2')\n",
    "    fig3= px.scatter(df3, x='total_bill', y=\"tip\", color='sex')\n",
    "    fig3.update_layout(title= \"Showing values for Dinner on \" +  _input1 + _input2)\n",
    "\n",
    "    return fig1, fig2, fig3\n",
    "\n",
    "app.run_server(mode='inline')"
   ]
  },
  {
   "cell_type": "code",
   "execution_count": null,
   "metadata": {},
   "outputs": [],
   "source": []
  }
 ],
 "metadata": {
  "interpreter": {
   "hash": "df205b153dbb97bbed1ce75bac850aef0d0fc36039549ed616e6f04c4795118d"
  },
  "kernelspec": {
   "display_name": "Python 3.9.6 ('.venv': venv)",
   "language": "python",
   "name": "python3"
  },
  "language_info": {
   "codemirror_mode": {
    "name": "ipython",
    "version": 3
   },
   "file_extension": ".py",
   "mimetype": "text/x-python",
   "name": "python",
   "nbconvert_exporter": "python",
   "pygments_lexer": "ipython3",
   "version": "3.9.6"
  },
  "orig_nbformat": 4
 },
 "nbformat": 4,
 "nbformat_minor": 2
}
