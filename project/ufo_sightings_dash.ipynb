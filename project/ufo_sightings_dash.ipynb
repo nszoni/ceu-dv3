{
 "cells": [
  {
   "cell_type": "code",
   "execution_count": null,
   "metadata": {},
   "outputs": [],
   "source": [
    "import plotly as px\n",
    "import pandas as pd\n",
    "import numpy as np\n",
    "import kaleido\n",
    "import dash"
   ]
  },
  {
   "cell_type": "code",
   "execution_count": null,
   "metadata": {},
   "outputs": [],
   "source": [
    "#read data from Github\n",
    "df = pd.read_csv('https://raw.githubusercontent.com/bencearato/data/master/ufo_sightings_scrubbed.csv')\n",
    "df.head(5)"
   ]
  }
 ],
 "metadata": {
  "language_info": {
   "name": "python"
  },
  "orig_nbformat": 4
 },
 "nbformat": 4,
 "nbformat_minor": 2
}
